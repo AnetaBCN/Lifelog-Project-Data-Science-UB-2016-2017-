{
 "cells": [
  {
   "cell_type": "markdown",
   "metadata": {},
   "source": [
    "# 0.3 Data Gather merge post-processing"
   ]
  },
  {
   "cell_type": "markdown",
   "metadata": {},
   "source": [
    "Our main objective at this point is to read metadata from xml files from NTCIR12 and YOLO .csv files and merge it into a pandas DataFrame."
   ]
  },
  {
   "cell_type": "code",
   "execution_count": 59,
   "metadata": {},
   "outputs": [
    {
     "data": {
      "text/html": [
       "<script>requirejs.config({paths: { 'plotly': ['https://cdn.plot.ly/plotly-latest.min']},});if(!window.Plotly) {{require(['plotly'],function(plotly) {window.Plotly=plotly;});}}</script>"
      ],
      "text/vnd.plotly.v1+html": [
       "<script>requirejs.config({paths: { 'plotly': ['https://cdn.plot.ly/plotly-latest.min']},});if(!window.Plotly) {{require(['plotly'],function(plotly) {window.Plotly=plotly;});}}</script>"
      ]
     },
     "metadata": {},
     "output_type": "display_data"
    }
   ],
   "source": [
    "import numpy as np\n",
    "import pandas as pd\n",
    "import matplotlib.pyplot as plt\n",
    "import time\n",
    "\n",
    "import seaborn as sns\n",
    "sns.set()\n",
    "\n",
    "import plotly\n",
    "plotly.offline.init_notebook_mode(connected=True)"
   ]
  },
  {
   "cell_type": "code",
   "execution_count": 60,
   "metadata": {
    "collapsed": true
   },
   "outputs": [],
   "source": [
    "u_tags=['person', 'chair', 'book', 'tvmonitor', 'laptop', 'bottle', 'cup', 'car', 'diningtable', 'cell phone', 'keyboard', 'bowl', 'mouse', 'clock', 'toilet', 'suitcase', 'sink', 'remote', 'pottedplant', 'refrigerator', 'knife', 'handbag', 'vase', 'aeroplane', 'cat', 'bed', 'sofa', 'backpack', 'tie', 'spoon', 'toothbrush', 'traffic light', 'bicycle', 'train', 'bench', 'microwave', 'bird', 'fork', 'oven', 'motorbike', 'wine glass', 'donut', 'apple', 'pizza', 'scissors', 'umbrella', 'cake', 'bus', 'truck', 'banana', 'parking meter', 'sandwich', 'sports ball', 'broccoli', 'carrot', 'orange', 'teddy bear', 'dog', 'snowboard', 'skateboard', 'boat', 'surfboard', 'frisbee', 'skis', 'hot dog', 'bear', 'elephant', 'toaster', 'stop sign', 'hair drier', 'kite', 'sheep', 'zebra', 'tennis racket', 'baseball bat', 'fire hydrant', 'horse', 'giraffe', 'cow', 'baseball glove']"
   ]
  },
  {
   "cell_type": "code",
   "execution_count": 61,
   "metadata": {},
   "outputs": [
    {
     "data": {
      "text/html": [
       "<div>\n",
       "<table border=\"1\" class=\"dataframe\">\n",
       "  <thead>\n",
       "    <tr style=\"text-align: right;\">\n",
       "      <th></th>\n",
       "      <th>user</th>\n",
       "      <th>date</th>\n",
       "      <th>filename</th>\n",
       "      <th>toilet</th>\n",
       "      <th>teddy bear</th>\n",
       "      <th>sports ball</th>\n",
       "      <th>bicycle</th>\n",
       "      <th>apple</th>\n",
       "      <th>laptop</th>\n",
       "      <th>scissors</th>\n",
       "      <th>...</th>\n",
       "      <th>skis</th>\n",
       "      <th>giraffe</th>\n",
       "      <th>truck</th>\n",
       "      <th>bottle</th>\n",
       "      <th>suitcase</th>\n",
       "      <th>cake</th>\n",
       "      <th>wine glass</th>\n",
       "      <th>baseball bat</th>\n",
       "      <th>traffic light</th>\n",
       "      <th>baseball glove</th>\n",
       "    </tr>\n",
       "  </thead>\n",
       "  <tbody>\n",
       "    <tr>\n",
       "      <th>0</th>\n",
       "      <td>u1</td>\n",
       "      <td>2015-02-26</td>\n",
       "      <td>b00000492_21i6bq_20150226_113924e.jpg</td>\n",
       "      <td>0.0</td>\n",
       "      <td>0.0</td>\n",
       "      <td>0.0</td>\n",
       "      <td>0.0</td>\n",
       "      <td>0.0</td>\n",
       "      <td>0.21</td>\n",
       "      <td>0.0</td>\n",
       "      <td>...</td>\n",
       "      <td>0.0</td>\n",
       "      <td>0.0</td>\n",
       "      <td>0.0</td>\n",
       "      <td>0.0</td>\n",
       "      <td>0.0</td>\n",
       "      <td>0.0</td>\n",
       "      <td>0.0</td>\n",
       "      <td>0.0</td>\n",
       "      <td>0.0</td>\n",
       "      <td>0.0</td>\n",
       "    </tr>\n",
       "    <tr>\n",
       "      <th>1</th>\n",
       "      <td>u1</td>\n",
       "      <td>2015-03-06</td>\n",
       "      <td>b00001046_21i6bq_20150306_160742e.jpg</td>\n",
       "      <td>0.0</td>\n",
       "      <td>0.0</td>\n",
       "      <td>0.0</td>\n",
       "      <td>0.0</td>\n",
       "      <td>0.0</td>\n",
       "      <td>0.00</td>\n",
       "      <td>0.0</td>\n",
       "      <td>...</td>\n",
       "      <td>0.0</td>\n",
       "      <td>0.0</td>\n",
       "      <td>0.0</td>\n",
       "      <td>0.0</td>\n",
       "      <td>0.0</td>\n",
       "      <td>0.0</td>\n",
       "      <td>0.0</td>\n",
       "      <td>0.0</td>\n",
       "      <td>0.0</td>\n",
       "      <td>0.0</td>\n",
       "    </tr>\n",
       "    <tr>\n",
       "      <th>2</th>\n",
       "      <td>u1</td>\n",
       "      <td>2015-03-20</td>\n",
       "      <td>b00003752_21i6bq_20150320_084445e.jpg</td>\n",
       "      <td>0.0</td>\n",
       "      <td>0.0</td>\n",
       "      <td>0.0</td>\n",
       "      <td>0.0</td>\n",
       "      <td>0.0</td>\n",
       "      <td>0.00</td>\n",
       "      <td>0.0</td>\n",
       "      <td>...</td>\n",
       "      <td>0.0</td>\n",
       "      <td>0.0</td>\n",
       "      <td>0.0</td>\n",
       "      <td>0.0</td>\n",
       "      <td>0.0</td>\n",
       "      <td>0.0</td>\n",
       "      <td>0.0</td>\n",
       "      <td>0.0</td>\n",
       "      <td>0.0</td>\n",
       "      <td>0.0</td>\n",
       "    </tr>\n",
       "    <tr>\n",
       "      <th>3</th>\n",
       "      <td>u1</td>\n",
       "      <td>2015-03-15</td>\n",
       "      <td>b00000740_21i6bq_20150315_145040e.jpg</td>\n",
       "      <td>0.0</td>\n",
       "      <td>0.0</td>\n",
       "      <td>0.5</td>\n",
       "      <td>0.0</td>\n",
       "      <td>0.0</td>\n",
       "      <td>0.00</td>\n",
       "      <td>0.0</td>\n",
       "      <td>...</td>\n",
       "      <td>0.0</td>\n",
       "      <td>0.0</td>\n",
       "      <td>0.0</td>\n",
       "      <td>0.0</td>\n",
       "      <td>0.0</td>\n",
       "      <td>0.0</td>\n",
       "      <td>0.0</td>\n",
       "      <td>0.0</td>\n",
       "      <td>0.0</td>\n",
       "      <td>0.0</td>\n",
       "    </tr>\n",
       "    <tr>\n",
       "      <th>4</th>\n",
       "      <td>u1</td>\n",
       "      <td>2015-03-07</td>\n",
       "      <td>b00000477_21i6bq_20150307_113654e.jpg</td>\n",
       "      <td>0.0</td>\n",
       "      <td>0.0</td>\n",
       "      <td>0.0</td>\n",
       "      <td>0.0</td>\n",
       "      <td>0.0</td>\n",
       "      <td>0.00</td>\n",
       "      <td>0.0</td>\n",
       "      <td>...</td>\n",
       "      <td>0.0</td>\n",
       "      <td>0.0</td>\n",
       "      <td>0.0</td>\n",
       "      <td>0.0</td>\n",
       "      <td>0.0</td>\n",
       "      <td>0.2</td>\n",
       "      <td>0.0</td>\n",
       "      <td>0.0</td>\n",
       "      <td>0.0</td>\n",
       "      <td>0.0</td>\n",
       "    </tr>\n",
       "  </tbody>\n",
       "</table>\n",
       "<p>5 rows × 83 columns</p>\n",
       "</div>"
      ],
      "text/plain": [
       "  user        date                               filename  toilet  teddy bear  \\\n",
       "0   u1  2015-02-26  b00000492_21i6bq_20150226_113924e.jpg     0.0         0.0   \n",
       "1   u1  2015-03-06  b00001046_21i6bq_20150306_160742e.jpg     0.0         0.0   \n",
       "2   u1  2015-03-20  b00003752_21i6bq_20150320_084445e.jpg     0.0         0.0   \n",
       "3   u1  2015-03-15  b00000740_21i6bq_20150315_145040e.jpg     0.0         0.0   \n",
       "4   u1  2015-03-07  b00000477_21i6bq_20150307_113654e.jpg     0.0         0.0   \n",
       "\n",
       "   sports ball  bicycle  apple  laptop  scissors       ...        skis  \\\n",
       "0          0.0      0.0    0.0    0.21       0.0       ...         0.0   \n",
       "1          0.0      0.0    0.0    0.00       0.0       ...         0.0   \n",
       "2          0.0      0.0    0.0    0.00       0.0       ...         0.0   \n",
       "3          0.5      0.0    0.0    0.00       0.0       ...         0.0   \n",
       "4          0.0      0.0    0.0    0.00       0.0       ...         0.0   \n",
       "\n",
       "   giraffe  truck  bottle  suitcase  cake  wine glass  baseball bat  \\\n",
       "0      0.0    0.0     0.0       0.0   0.0         0.0           0.0   \n",
       "1      0.0    0.0     0.0       0.0   0.0         0.0           0.0   \n",
       "2      0.0    0.0     0.0       0.0   0.0         0.0           0.0   \n",
       "3      0.0    0.0     0.0       0.0   0.0         0.0           0.0   \n",
       "4      0.0    0.0     0.0       0.0   0.2         0.0           0.0   \n",
       "\n",
       "   traffic light  baseball glove  \n",
       "0            0.0             0.0  \n",
       "1            0.0             0.0  \n",
       "2            0.0             0.0  \n",
       "3            0.0             0.0  \n",
       "4            0.0             0.0  \n",
       "\n",
       "[5 rows x 83 columns]"
      ]
     },
     "execution_count": 61,
     "metadata": {},
     "output_type": "execute_result"
    }
   ],
   "source": [
    "csv_file1 = './../data/u1_data.csv'\n",
    "\n",
    "df1= pd.read_csv(csv_file1,sep=';')\n",
    "df1.head()"
   ]
  },
  {
   "cell_type": "code",
   "execution_count": 62,
   "metadata": {},
   "outputs": [
    {
     "data": {
      "text/html": [
       "<div>\n",
       "<table border=\"1\" class=\"dataframe\">\n",
       "  <thead>\n",
       "    <tr style=\"text-align: right;\">\n",
       "      <th></th>\n",
       "      <th>user</th>\n",
       "      <th>date</th>\n",
       "      <th>filename</th>\n",
       "      <th>toilet</th>\n",
       "      <th>teddy bear</th>\n",
       "      <th>sports ball</th>\n",
       "      <th>bicycle</th>\n",
       "      <th>apple</th>\n",
       "      <th>laptop</th>\n",
       "      <th>scissors</th>\n",
       "      <th>...</th>\n",
       "      <th>skis</th>\n",
       "      <th>giraffe</th>\n",
       "      <th>truck</th>\n",
       "      <th>bottle</th>\n",
       "      <th>suitcase</th>\n",
       "      <th>cake</th>\n",
       "      <th>wine glass</th>\n",
       "      <th>baseball bat</th>\n",
       "      <th>traffic light</th>\n",
       "      <th>baseball glove</th>\n",
       "    </tr>\n",
       "  </thead>\n",
       "  <tbody>\n",
       "    <tr>\n",
       "      <th>0</th>\n",
       "      <td>u2</td>\n",
       "      <td>2015-04-26</td>\n",
       "      <td>b00003849_21i7lf_20150426_115238e.jpg</td>\n",
       "      <td>0.00</td>\n",
       "      <td>0.0</td>\n",
       "      <td>0.0</td>\n",
       "      <td>0.0</td>\n",
       "      <td>0.0</td>\n",
       "      <td>0.0</td>\n",
       "      <td>0.0</td>\n",
       "      <td>...</td>\n",
       "      <td>0.0</td>\n",
       "      <td>0.0</td>\n",
       "      <td>0.0</td>\n",
       "      <td>0.0</td>\n",
       "      <td>0.0</td>\n",
       "      <td>0.0</td>\n",
       "      <td>0.0</td>\n",
       "      <td>0.0</td>\n",
       "      <td>0.0</td>\n",
       "      <td>0.0</td>\n",
       "    </tr>\n",
       "    <tr>\n",
       "      <th>1</th>\n",
       "      <td>u2</td>\n",
       "      <td>2015-04-26</td>\n",
       "      <td>b00003850_21i7lf_20150426_115350e.jpg</td>\n",
       "      <td>0.32</td>\n",
       "      <td>0.0</td>\n",
       "      <td>0.0</td>\n",
       "      <td>0.0</td>\n",
       "      <td>0.0</td>\n",
       "      <td>0.0</td>\n",
       "      <td>0.0</td>\n",
       "      <td>...</td>\n",
       "      <td>0.0</td>\n",
       "      <td>0.0</td>\n",
       "      <td>0.0</td>\n",
       "      <td>0.0</td>\n",
       "      <td>0.0</td>\n",
       "      <td>0.0</td>\n",
       "      <td>0.0</td>\n",
       "      <td>0.0</td>\n",
       "      <td>0.0</td>\n",
       "      <td>0.0</td>\n",
       "    </tr>\n",
       "    <tr>\n",
       "      <th>2</th>\n",
       "      <td>u2</td>\n",
       "      <td>2015-04-26</td>\n",
       "      <td>b00003851_21i7lf_20150426_115425e.jpg</td>\n",
       "      <td>0.00</td>\n",
       "      <td>0.0</td>\n",
       "      <td>0.0</td>\n",
       "      <td>0.0</td>\n",
       "      <td>0.0</td>\n",
       "      <td>0.0</td>\n",
       "      <td>0.0</td>\n",
       "      <td>...</td>\n",
       "      <td>0.0</td>\n",
       "      <td>0.0</td>\n",
       "      <td>0.0</td>\n",
       "      <td>0.0</td>\n",
       "      <td>0.0</td>\n",
       "      <td>0.0</td>\n",
       "      <td>0.0</td>\n",
       "      <td>0.0</td>\n",
       "      <td>0.0</td>\n",
       "      <td>0.0</td>\n",
       "    </tr>\n",
       "    <tr>\n",
       "      <th>3</th>\n",
       "      <td>u2</td>\n",
       "      <td>2015-04-26</td>\n",
       "      <td>b00003852_21i7lf_20150426_115459e.jpg</td>\n",
       "      <td>0.00</td>\n",
       "      <td>0.0</td>\n",
       "      <td>0.0</td>\n",
       "      <td>0.0</td>\n",
       "      <td>0.0</td>\n",
       "      <td>0.0</td>\n",
       "      <td>0.0</td>\n",
       "      <td>...</td>\n",
       "      <td>0.0</td>\n",
       "      <td>0.0</td>\n",
       "      <td>0.0</td>\n",
       "      <td>0.1</td>\n",
       "      <td>0.0</td>\n",
       "      <td>0.0</td>\n",
       "      <td>0.0</td>\n",
       "      <td>0.0</td>\n",
       "      <td>0.0</td>\n",
       "      <td>0.0</td>\n",
       "    </tr>\n",
       "    <tr>\n",
       "      <th>4</th>\n",
       "      <td>u2</td>\n",
       "      <td>2015-04-26</td>\n",
       "      <td>b00003853_21i7lf_20150426_115536e.jpg</td>\n",
       "      <td>0.00</td>\n",
       "      <td>0.0</td>\n",
       "      <td>0.0</td>\n",
       "      <td>0.0</td>\n",
       "      <td>0.0</td>\n",
       "      <td>0.0</td>\n",
       "      <td>0.0</td>\n",
       "      <td>...</td>\n",
       "      <td>0.0</td>\n",
       "      <td>0.0</td>\n",
       "      <td>0.0</td>\n",
       "      <td>0.0</td>\n",
       "      <td>0.0</td>\n",
       "      <td>0.0</td>\n",
       "      <td>0.0</td>\n",
       "      <td>0.0</td>\n",
       "      <td>0.0</td>\n",
       "      <td>0.0</td>\n",
       "    </tr>\n",
       "  </tbody>\n",
       "</table>\n",
       "<p>5 rows × 83 columns</p>\n",
       "</div>"
      ],
      "text/plain": [
       "  user        date                               filename  toilet  teddy bear  \\\n",
       "0   u2  2015-04-26  b00003849_21i7lf_20150426_115238e.jpg    0.00         0.0   \n",
       "1   u2  2015-04-26  b00003850_21i7lf_20150426_115350e.jpg    0.32         0.0   \n",
       "2   u2  2015-04-26  b00003851_21i7lf_20150426_115425e.jpg    0.00         0.0   \n",
       "3   u2  2015-04-26  b00003852_21i7lf_20150426_115459e.jpg    0.00         0.0   \n",
       "4   u2  2015-04-26  b00003853_21i7lf_20150426_115536e.jpg    0.00         0.0   \n",
       "\n",
       "   sports ball  bicycle  apple  laptop  scissors       ...        skis  \\\n",
       "0          0.0      0.0    0.0     0.0       0.0       ...         0.0   \n",
       "1          0.0      0.0    0.0     0.0       0.0       ...         0.0   \n",
       "2          0.0      0.0    0.0     0.0       0.0       ...         0.0   \n",
       "3          0.0      0.0    0.0     0.0       0.0       ...         0.0   \n",
       "4          0.0      0.0    0.0     0.0       0.0       ...         0.0   \n",
       "\n",
       "   giraffe  truck  bottle  suitcase  cake  wine glass  baseball bat  \\\n",
       "0      0.0    0.0     0.0       0.0   0.0         0.0           0.0   \n",
       "1      0.0    0.0     0.0       0.0   0.0         0.0           0.0   \n",
       "2      0.0    0.0     0.0       0.0   0.0         0.0           0.0   \n",
       "3      0.0    0.0     0.1       0.0   0.0         0.0           0.0   \n",
       "4      0.0    0.0     0.0       0.0   0.0         0.0           0.0   \n",
       "\n",
       "   traffic light  baseball glove  \n",
       "0            0.0             0.0  \n",
       "1            0.0             0.0  \n",
       "2            0.0             0.0  \n",
       "3            0.0             0.0  \n",
       "4            0.0             0.0  \n",
       "\n",
       "[5 rows x 83 columns]"
      ]
     },
     "execution_count": 62,
     "metadata": {},
     "output_type": "execute_result"
    }
   ],
   "source": [
    "csv_file2 = './../data/u2_data.csv' #load the csv file\n",
    "\n",
    "df2= pd.read_csv(csv_file2,sep=';')\n",
    "df2.head()"
   ]
  },
  {
   "cell_type": "code",
   "execution_count": 63,
   "metadata": {},
   "outputs": [
    {
     "data": {
      "text/html": [
       "<div>\n",
       "<table border=\"1\" class=\"dataframe\">\n",
       "  <thead>\n",
       "    <tr style=\"text-align: right;\">\n",
       "      <th></th>\n",
       "      <th>user</th>\n",
       "      <th>date</th>\n",
       "      <th>filename</th>\n",
       "      <th>toilet</th>\n",
       "      <th>teddy bear</th>\n",
       "      <th>sports ball</th>\n",
       "      <th>bicycle</th>\n",
       "      <th>apple</th>\n",
       "      <th>laptop</th>\n",
       "      <th>scissors</th>\n",
       "      <th>...</th>\n",
       "      <th>skis</th>\n",
       "      <th>giraffe</th>\n",
       "      <th>truck</th>\n",
       "      <th>bottle</th>\n",
       "      <th>suitcase</th>\n",
       "      <th>cake</th>\n",
       "      <th>wine glass</th>\n",
       "      <th>baseball bat</th>\n",
       "      <th>traffic light</th>\n",
       "      <th>baseball glove</th>\n",
       "    </tr>\n",
       "  </thead>\n",
       "  <tbody>\n",
       "    <tr>\n",
       "      <th>0</th>\n",
       "      <td>u3</td>\n",
       "      <td>2015-07-13</td>\n",
       "      <td>b00002185_21i79q_20150713_122910e.jpg</td>\n",
       "      <td>0.89</td>\n",
       "      <td>0.0</td>\n",
       "      <td>0.0</td>\n",
       "      <td>0.0</td>\n",
       "      <td>0.0</td>\n",
       "      <td>0.0</td>\n",
       "      <td>0.0</td>\n",
       "      <td>...</td>\n",
       "      <td>0.0</td>\n",
       "      <td>0.0</td>\n",
       "      <td>0.0</td>\n",
       "      <td>0.40</td>\n",
       "      <td>0.0</td>\n",
       "      <td>0.0</td>\n",
       "      <td>0.0</td>\n",
       "      <td>0.0</td>\n",
       "      <td>0.0</td>\n",
       "      <td>0.0</td>\n",
       "    </tr>\n",
       "    <tr>\n",
       "      <th>1</th>\n",
       "      <td>u3</td>\n",
       "      <td>2015-07-13</td>\n",
       "      <td>b00002186_21i79q_20150713_122951e.jpg</td>\n",
       "      <td>0.00</td>\n",
       "      <td>0.0</td>\n",
       "      <td>0.0</td>\n",
       "      <td>0.0</td>\n",
       "      <td>0.0</td>\n",
       "      <td>0.0</td>\n",
       "      <td>0.0</td>\n",
       "      <td>...</td>\n",
       "      <td>0.0</td>\n",
       "      <td>0.0</td>\n",
       "      <td>0.0</td>\n",
       "      <td>0.00</td>\n",
       "      <td>0.0</td>\n",
       "      <td>0.0</td>\n",
       "      <td>0.0</td>\n",
       "      <td>0.0</td>\n",
       "      <td>0.0</td>\n",
       "      <td>0.0</td>\n",
       "    </tr>\n",
       "    <tr>\n",
       "      <th>2</th>\n",
       "      <td>u3</td>\n",
       "      <td>2015-07-13</td>\n",
       "      <td>b00002187_21i79q_20150713_123026e.jpg</td>\n",
       "      <td>0.17</td>\n",
       "      <td>0.0</td>\n",
       "      <td>0.0</td>\n",
       "      <td>0.0</td>\n",
       "      <td>0.0</td>\n",
       "      <td>0.0</td>\n",
       "      <td>0.0</td>\n",
       "      <td>...</td>\n",
       "      <td>0.0</td>\n",
       "      <td>0.0</td>\n",
       "      <td>0.0</td>\n",
       "      <td>0.00</td>\n",
       "      <td>0.0</td>\n",
       "      <td>0.0</td>\n",
       "      <td>0.0</td>\n",
       "      <td>0.0</td>\n",
       "      <td>0.0</td>\n",
       "      <td>0.0</td>\n",
       "    </tr>\n",
       "    <tr>\n",
       "      <th>3</th>\n",
       "      <td>u3</td>\n",
       "      <td>2015-07-13</td>\n",
       "      <td>b00002188_21i79q_20150713_123059e.jpg</td>\n",
       "      <td>0.00</td>\n",
       "      <td>0.0</td>\n",
       "      <td>0.0</td>\n",
       "      <td>0.0</td>\n",
       "      <td>0.0</td>\n",
       "      <td>0.0</td>\n",
       "      <td>0.0</td>\n",
       "      <td>...</td>\n",
       "      <td>0.0</td>\n",
       "      <td>0.0</td>\n",
       "      <td>0.0</td>\n",
       "      <td>0.48</td>\n",
       "      <td>0.0</td>\n",
       "      <td>0.0</td>\n",
       "      <td>0.0</td>\n",
       "      <td>0.0</td>\n",
       "      <td>0.0</td>\n",
       "      <td>0.0</td>\n",
       "    </tr>\n",
       "    <tr>\n",
       "      <th>4</th>\n",
       "      <td>u3</td>\n",
       "      <td>2015-07-13</td>\n",
       "      <td>b00002189_21i79q_20150713_123138e.jpg</td>\n",
       "      <td>0.00</td>\n",
       "      <td>0.0</td>\n",
       "      <td>0.0</td>\n",
       "      <td>0.0</td>\n",
       "      <td>0.0</td>\n",
       "      <td>0.0</td>\n",
       "      <td>0.0</td>\n",
       "      <td>...</td>\n",
       "      <td>0.0</td>\n",
       "      <td>0.0</td>\n",
       "      <td>0.0</td>\n",
       "      <td>0.64</td>\n",
       "      <td>0.0</td>\n",
       "      <td>0.0</td>\n",
       "      <td>0.0</td>\n",
       "      <td>0.0</td>\n",
       "      <td>0.0</td>\n",
       "      <td>0.0</td>\n",
       "    </tr>\n",
       "  </tbody>\n",
       "</table>\n",
       "<p>5 rows × 83 columns</p>\n",
       "</div>"
      ],
      "text/plain": [
       "  user        date                               filename  toilet  teddy bear  \\\n",
       "0   u3  2015-07-13  b00002185_21i79q_20150713_122910e.jpg    0.89         0.0   \n",
       "1   u3  2015-07-13  b00002186_21i79q_20150713_122951e.jpg    0.00         0.0   \n",
       "2   u3  2015-07-13  b00002187_21i79q_20150713_123026e.jpg    0.17         0.0   \n",
       "3   u3  2015-07-13  b00002188_21i79q_20150713_123059e.jpg    0.00         0.0   \n",
       "4   u3  2015-07-13  b00002189_21i79q_20150713_123138e.jpg    0.00         0.0   \n",
       "\n",
       "   sports ball  bicycle  apple  laptop  scissors       ...        skis  \\\n",
       "0          0.0      0.0    0.0     0.0       0.0       ...         0.0   \n",
       "1          0.0      0.0    0.0     0.0       0.0       ...         0.0   \n",
       "2          0.0      0.0    0.0     0.0       0.0       ...         0.0   \n",
       "3          0.0      0.0    0.0     0.0       0.0       ...         0.0   \n",
       "4          0.0      0.0    0.0     0.0       0.0       ...         0.0   \n",
       "\n",
       "   giraffe  truck  bottle  suitcase  cake  wine glass  baseball bat  \\\n",
       "0      0.0    0.0    0.40       0.0   0.0         0.0           0.0   \n",
       "1      0.0    0.0    0.00       0.0   0.0         0.0           0.0   \n",
       "2      0.0    0.0    0.00       0.0   0.0         0.0           0.0   \n",
       "3      0.0    0.0    0.48       0.0   0.0         0.0           0.0   \n",
       "4      0.0    0.0    0.64       0.0   0.0         0.0           0.0   \n",
       "\n",
       "   traffic light  baseball glove  \n",
       "0            0.0             0.0  \n",
       "1            0.0             0.0  \n",
       "2            0.0             0.0  \n",
       "3            0.0             0.0  \n",
       "4            0.0             0.0  \n",
       "\n",
       "[5 rows x 83 columns]"
      ]
     },
     "execution_count": 63,
     "metadata": {},
     "output_type": "execute_result"
    }
   ],
   "source": [
    "csv_file3 = './../data/u3_data.csv' #load the csv file\n",
    "\n",
    "df3= pd.read_csv(csv_file3,sep=';')\n",
    "df3.head()"
   ]
  },
  {
   "cell_type": "markdown",
   "metadata": {},
   "source": [
    "We can take a look into a df3 (corresponding to u3) data information:"
   ]
  },
  {
   "cell_type": "code",
   "execution_count": 64,
   "metadata": {},
   "outputs": [
    {
     "name": "stdout",
     "output_type": "stream",
     "text": [
      "<class 'pandas.core.frame.DataFrame'>\n",
      "RangeIndex: 26583 entries, 0 to 26582\n",
      "Data columns (total 83 columns):\n",
      "user              26583 non-null object\n",
      "date              26583 non-null object\n",
      "filename          26583 non-null object\n",
      "toilet            26583 non-null float64\n",
      "teddy bear        26583 non-null float64\n",
      "sports ball       26583 non-null float64\n",
      "bicycle           26583 non-null float64\n",
      "apple             26583 non-null float64\n",
      "laptop            26583 non-null float64\n",
      "scissors          26583 non-null float64\n",
      "donut             26583 non-null float64\n",
      "snowboard         26583 non-null float64\n",
      "carrot            26583 non-null float64\n",
      "zebra             26583 non-null float64\n",
      "oven              26583 non-null float64\n",
      "keyboard          26583 non-null float64\n",
      "pottedplant       26583 non-null float64\n",
      "tvmonitor         26583 non-null float64\n",
      "chair             26583 non-null float64\n",
      "parking meter     26583 non-null float64\n",
      "mouse             26583 non-null float64\n",
      "frisbee           26583 non-null float64\n",
      "boat              26583 non-null float64\n",
      "kite              26583 non-null float64\n",
      "hair drier        26583 non-null float64\n",
      "horse             26583 non-null float64\n",
      "motorbike         26583 non-null float64\n",
      "banana            26583 non-null float64\n",
      "cup               26583 non-null float64\n",
      "backpack          26583 non-null float64\n",
      "toaster           26583 non-null float64\n",
      "bowl              26583 non-null float64\n",
      "microwave         26583 non-null float64\n",
      "bench             26583 non-null float64\n",
      "fire hydrant      26583 non-null float64\n",
      "book              26583 non-null float64\n",
      "diningtable       26583 non-null float64\n",
      "elephant          26583 non-null float64\n",
      "orange            26583 non-null float64\n",
      "tie               26583 non-null float64\n",
      "bird              26583 non-null float64\n",
      "knife             26583 non-null float64\n",
      "pizza             26583 non-null float64\n",
      "fork              26583 non-null float64\n",
      "sheep             26583 non-null float64\n",
      "sandwich          26583 non-null float64\n",
      "umbrella          26583 non-null float64\n",
      "aeroplane         26583 non-null float64\n",
      "tennis racket     26583 non-null float64\n",
      "sofa              26583 non-null float64\n",
      "bus               26583 non-null float64\n",
      "bear              26583 non-null float64\n",
      "vase              26583 non-null float64\n",
      "toothbrush        26583 non-null float64\n",
      "spoon             26583 non-null float64\n",
      "train             26583 non-null float64\n",
      "sink              26583 non-null float64\n",
      "stop sign         26583 non-null float64\n",
      "handbag           26583 non-null float64\n",
      "cell phone        26583 non-null float64\n",
      "broccoli          26583 non-null float64\n",
      "refrigerator      26583 non-null float64\n",
      "remote            26583 non-null float64\n",
      "surfboard         26583 non-null float64\n",
      "cow               26583 non-null float64\n",
      "hot dog           26583 non-null float64\n",
      "car               26583 non-null float64\n",
      "clock             26583 non-null float64\n",
      "skateboard        26583 non-null float64\n",
      "dog               26583 non-null float64\n",
      "bed               26583 non-null float64\n",
      "cat               26583 non-null float64\n",
      "person            26583 non-null float64\n",
      "skis              26583 non-null float64\n",
      "giraffe           26583 non-null float64\n",
      "truck             26583 non-null float64\n",
      "bottle            26583 non-null float64\n",
      "suitcase          26583 non-null float64\n",
      "cake              26583 non-null float64\n",
      "wine glass        26583 non-null float64\n",
      "baseball bat      26583 non-null float64\n",
      "traffic light     26583 non-null float64\n",
      "baseball glove    26583 non-null float64\n",
      "dtypes: float64(80), object(3)\n",
      "memory usage: 16.8+ MB\n"
     ]
    }
   ],
   "source": [
    "df3.info()"
   ]
  },
  {
   "cell_type": "markdown",
   "metadata": {},
   "source": [
    "## Concatenate all users into an unique DataFrame"
   ]
  },
  {
   "cell_type": "code",
   "execution_count": 65,
   "metadata": {
    "collapsed": true
   },
   "outputs": [],
   "source": [
    "columns= df3.columns # get the column list from any df: we select df3\n",
    "df_all=pd.concat([df1,df2,df3]) #concatenate all data\n",
    "df_all=df_all.reindex_axis(columns, axis=1) #re-order columns"
   ]
  },
  {
   "cell_type": "markdown",
   "metadata": {},
   "source": [
    "Checking number of rows related to each user (one per image):"
   ]
  },
  {
   "cell_type": "code",
   "execution_count": 66,
   "metadata": {},
   "outputs": [
    {
     "data": {
      "text/plain": [
       "u1    37140\n",
       "u3    26583\n",
       "u2    24401\n",
       "Name: user, dtype: int64"
      ]
     },
     "execution_count": 66,
     "metadata": {},
     "output_type": "execute_result"
    }
   ],
   "source": [
    "df_all.user.value_counts()"
   ]
  },
  {
   "cell_type": "markdown",
   "metadata": {},
   "source": [
    "And a summary of all infomartion dthat contains this new DataFrame:"
   ]
  },
  {
   "cell_type": "code",
   "execution_count": 67,
   "metadata": {},
   "outputs": [
    {
     "name": "stdout",
     "output_type": "stream",
     "text": [
      "<class 'pandas.core.frame.DataFrame'>\n",
      "Int64Index: 88124 entries, 0 to 26582\n",
      "Data columns (total 83 columns):\n",
      "user              88124 non-null object\n",
      "date              88124 non-null object\n",
      "filename          88124 non-null object\n",
      "toilet            88124 non-null float64\n",
      "teddy bear        88124 non-null float64\n",
      "sports ball       88124 non-null float64\n",
      "bicycle           88124 non-null float64\n",
      "apple             88124 non-null float64\n",
      "laptop            88124 non-null float64\n",
      "scissors          88124 non-null float64\n",
      "donut             88124 non-null float64\n",
      "snowboard         88124 non-null float64\n",
      "carrot            88124 non-null float64\n",
      "zebra             88124 non-null float64\n",
      "oven              88124 non-null float64\n",
      "keyboard          88124 non-null float64\n",
      "pottedplant       88124 non-null float64\n",
      "tvmonitor         88124 non-null float64\n",
      "chair             88124 non-null float64\n",
      "parking meter     88124 non-null float64\n",
      "mouse             88124 non-null float64\n",
      "frisbee           88124 non-null float64\n",
      "boat              88124 non-null float64\n",
      "kite              88124 non-null float64\n",
      "hair drier        88124 non-null float64\n",
      "horse             88124 non-null float64\n",
      "motorbike         88124 non-null float64\n",
      "banana            88124 non-null float64\n",
      "cup               88124 non-null float64\n",
      "backpack          88124 non-null float64\n",
      "toaster           88124 non-null float64\n",
      "bowl              88124 non-null float64\n",
      "microwave         88124 non-null float64\n",
      "bench             88124 non-null float64\n",
      "fire hydrant      88124 non-null float64\n",
      "book              88124 non-null float64\n",
      "diningtable       88124 non-null float64\n",
      "elephant          88124 non-null float64\n",
      "orange            88124 non-null float64\n",
      "tie               88124 non-null float64\n",
      "bird              88124 non-null float64\n",
      "knife             88124 non-null float64\n",
      "pizza             88124 non-null float64\n",
      "fork              88124 non-null float64\n",
      "sheep             88124 non-null float64\n",
      "sandwich          88124 non-null float64\n",
      "umbrella          88124 non-null float64\n",
      "aeroplane         88124 non-null float64\n",
      "tennis racket     88124 non-null float64\n",
      "sofa              88124 non-null float64\n",
      "bus               88124 non-null float64\n",
      "bear              88124 non-null float64\n",
      "vase              88124 non-null float64\n",
      "toothbrush        88124 non-null float64\n",
      "spoon             88124 non-null float64\n",
      "train             88124 non-null float64\n",
      "sink              88124 non-null float64\n",
      "stop sign         88124 non-null float64\n",
      "handbag           88124 non-null float64\n",
      "cell phone        88124 non-null float64\n",
      "broccoli          88124 non-null float64\n",
      "refrigerator      88124 non-null float64\n",
      "remote            88124 non-null float64\n",
      "surfboard         88124 non-null float64\n",
      "cow               88124 non-null float64\n",
      "hot dog           88124 non-null float64\n",
      "car               88124 non-null float64\n",
      "clock             88124 non-null float64\n",
      "skateboard        88124 non-null float64\n",
      "dog               88124 non-null float64\n",
      "bed               88124 non-null float64\n",
      "cat               88124 non-null float64\n",
      "person            88124 non-null float64\n",
      "skis              88124 non-null float64\n",
      "giraffe           88124 non-null float64\n",
      "truck             88124 non-null float64\n",
      "bottle            88124 non-null float64\n",
      "suitcase          88124 non-null float64\n",
      "cake              88124 non-null float64\n",
      "wine glass        88124 non-null float64\n",
      "baseball bat      88124 non-null float64\n",
      "traffic light     88124 non-null float64\n",
      "baseball glove    88124 non-null float64\n",
      "dtypes: float64(80), object(3)\n",
      "memory usage: 56.5+ MB\n"
     ]
    }
   ],
   "source": [
    "df_all.info()"
   ]
  },
  {
   "cell_type": "markdown",
   "metadata": {},
   "source": [
    "# Loadind metadata from XML files"
   ]
  },
  {
   "cell_type": "markdown",
   "metadata": {},
   "source": [
    "We load .csv file with images and users metadata. This file has been obteined from the original data set .xml file. The variable **columns** contain de name of the columns with usefull information for us."
   ]
  },
  {
   "cell_type": "code",
   "execution_count": 68,
   "metadata": {
    "collapsed": true
   },
   "outputs": [],
   "source": [
    "columns = ['user','age','day_id','date','image_directory','activity','image_id','image_path','location','gender','height','weight']"
   ]
  },
  {
   "cell_type": "code",
   "execution_count": 69,
   "metadata": {},
   "outputs": [
    {
     "data": {
      "text/html": [
       "<div>\n",
       "<table border=\"1\" class=\"dataframe\">\n",
       "  <thead>\n",
       "    <tr style=\"text-align: right;\">\n",
       "      <th></th>\n",
       "      <th>user</th>\n",
       "      <th>age</th>\n",
       "      <th>day_id</th>\n",
       "      <th>date</th>\n",
       "      <th>image_directory</th>\n",
       "      <th>activity</th>\n",
       "      <th>image_id</th>\n",
       "      <th>image_path</th>\n",
       "      <th>location</th>\n",
       "      <th>gender</th>\n",
       "      <th>height</th>\n",
       "      <th>weight</th>\n",
       "    </tr>\n",
       "  </thead>\n",
       "  <tbody>\n",
       "    <tr>\n",
       "      <th>0</th>\n",
       "      <td>u1</td>\n",
       "      <td>40</td>\n",
       "      <td>1</td>\n",
       "      <td>23/02/2015</td>\n",
       "      <td>NTCIR-Lifelog_images/u1/2015-02-23/</td>\n",
       "      <td>NaN</td>\n",
       "      <td>NaN</td>\n",
       "      <td>NaN</td>\n",
       "      <td>Home</td>\n",
       "      <td>male</td>\n",
       "      <td>173</td>\n",
       "      <td>78</td>\n",
       "    </tr>\n",
       "    <tr>\n",
       "      <th>1</th>\n",
       "      <td>u1</td>\n",
       "      <td>40</td>\n",
       "      <td>1</td>\n",
       "      <td>23/02/2015</td>\n",
       "      <td>NTCIR-Lifelog_images/u1/2015-02-23/</td>\n",
       "      <td>NaN</td>\n",
       "      <td>NaN</td>\n",
       "      <td>NaN</td>\n",
       "      <td>Home</td>\n",
       "      <td>male</td>\n",
       "      <td>173</td>\n",
       "      <td>78</td>\n",
       "    </tr>\n",
       "    <tr>\n",
       "      <th>2</th>\n",
       "      <td>u1</td>\n",
       "      <td>40</td>\n",
       "      <td>1</td>\n",
       "      <td>23/02/2015</td>\n",
       "      <td>NTCIR-Lifelog_images/u1/2015-02-23/</td>\n",
       "      <td>NaN</td>\n",
       "      <td>NaN</td>\n",
       "      <td>NaN</td>\n",
       "      <td>Home</td>\n",
       "      <td>male</td>\n",
       "      <td>173</td>\n",
       "      <td>78</td>\n",
       "    </tr>\n",
       "    <tr>\n",
       "      <th>3</th>\n",
       "      <td>u1</td>\n",
       "      <td>40</td>\n",
       "      <td>1</td>\n",
       "      <td>23/02/2015</td>\n",
       "      <td>NTCIR-Lifelog_images/u1/2015-02-23/</td>\n",
       "      <td>NaN</td>\n",
       "      <td>NaN</td>\n",
       "      <td>NaN</td>\n",
       "      <td>Home</td>\n",
       "      <td>male</td>\n",
       "      <td>173</td>\n",
       "      <td>78</td>\n",
       "    </tr>\n",
       "    <tr>\n",
       "      <th>4</th>\n",
       "      <td>u1</td>\n",
       "      <td>40</td>\n",
       "      <td>1</td>\n",
       "      <td>23/02/2015</td>\n",
       "      <td>NTCIR-Lifelog_images/u1/2015-02-23/</td>\n",
       "      <td>NaN</td>\n",
       "      <td>NaN</td>\n",
       "      <td>NaN</td>\n",
       "      <td>Home</td>\n",
       "      <td>male</td>\n",
       "      <td>173</td>\n",
       "      <td>78</td>\n",
       "    </tr>\n",
       "  </tbody>\n",
       "</table>\n",
       "</div>"
      ],
      "text/plain": [
       "  user  age  day_id        date                      image_directory activity  \\\n",
       "0   u1   40       1  23/02/2015  NTCIR-Lifelog_images/u1/2015-02-23/      NaN   \n",
       "1   u1   40       1  23/02/2015  NTCIR-Lifelog_images/u1/2015-02-23/      NaN   \n",
       "2   u1   40       1  23/02/2015  NTCIR-Lifelog_images/u1/2015-02-23/      NaN   \n",
       "3   u1   40       1  23/02/2015  NTCIR-Lifelog_images/u1/2015-02-23/      NaN   \n",
       "4   u1   40       1  23/02/2015  NTCIR-Lifelog_images/u1/2015-02-23/      NaN   \n",
       "\n",
       "  image_id image_path location gender  height  weight  \n",
       "0      NaN        NaN     Home   male     173      78  \n",
       "1      NaN        NaN     Home   male     173      78  \n",
       "2      NaN        NaN     Home   male     173      78  \n",
       "3      NaN        NaN     Home   male     173      78  \n",
       "4      NaN        NaN     Home   male     173      78  "
      ]
     },
     "execution_count": 69,
     "metadata": {},
     "output_type": "execute_result"
    }
   ],
   "source": [
    "#load the file with a semicolon tab and the specific columns from the list created above\n",
    "csv_file = './../data/NTCIR-Lifelog_formal_run_dataset.csv'\n",
    "df_xml= pd.read_csv(csv_file,sep=';', usecols=columns)\n",
    "\n",
    "df_xml.head()"
   ]
  },
  {
   "cell_type": "markdown",
   "metadata": {},
   "source": [
    "One of tha aims of this study is correlationate activities with objects in the images. Then we are goint to take a look to this column abstract:"
   ]
  },
  {
   "cell_type": "code",
   "execution_count": 70,
   "metadata": {},
   "outputs": [
    {
     "data": {
      "text/plain": [
       "array([nan, 'walking', 'transport', 'running', 'cycling', 'car', 'bus'], dtype=object)"
      ]
     },
     "execution_count": 70,
     "metadata": {},
     "output_type": "execute_result"
    }
   ],
   "source": [
    "df_xml.activity.unique()"
   ]
  },
  {
   "cell_type": "markdown",
   "metadata": {},
   "source": [
    "As we can see in our data, 6 activities are found and many nan (without information). "
   ]
  },
  {
   "cell_type": "code",
   "execution_count": 71,
   "metadata": {},
   "outputs": [
    {
     "data": {
      "text/plain": [
       "149512"
      ]
     },
     "execution_count": 71,
     "metadata": {},
     "output_type": "execute_result"
    }
   ],
   "source": [
    "len(df_xml.activity)"
   ]
  },
  {
   "cell_type": "code",
   "execution_count": 72,
   "metadata": {},
   "outputs": [
    {
     "data": {
      "text/plain": [
       "133707"
      ]
     },
     "execution_count": 72,
     "metadata": {},
     "output_type": "execute_result"
    }
   ],
   "source": [
    "len(df_xml[df_xml.activity.isnull()])"
   ]
  },
  {
   "cell_type": "markdown",
   "metadata": {},
   "source": [
    "We have very few imatges with activity related information. then we have to add extra activity tags. From the list of activities we know that every index corresponds with information that we can find related to the activity (number from 0 to 20)."
   ]
  },
  {
   "cell_type": "code",
   "execution_count": 73,
   "metadata": {
    "collapsed": true
   },
   "outputs": [],
   "source": [
    "activities = [\"Public transport\",\"Driving\",\"Walking outdoors\",\"Walking indoors\",\n",
    "                \"Biking\",\"Having drinks with somebody\",\"Having drinks\\meal alone\",\n",
    "                \"Having meal with somebody\",\"Socializing\",\"Attending a seminar\",\n",
    "                \"Meeting\",\"Reading\",\"TV\",\"Cleaning and chores\",\"Working\",\"Cooking\",\n",
    "                \"Shopping\",\"Talking\",\"Resting\",\"Mobile\",\"Plane\"]"
   ]
  },
  {
   "cell_type": "code",
   "execution_count": 74,
   "metadata": {},
   "outputs": [
    {
     "data": {
      "text/plain": [
       "'Public transport'"
      ]
     },
     "execution_count": 74,
     "metadata": {},
     "output_type": "execute_result"
    }
   ],
   "source": [
    "activities[0] #that way we translate the number to the activity"
   ]
  },
  {
   "cell_type": "markdown",
   "metadata": {},
   "source": [
    "Here we open the file and get al information into variable lines:"
   ]
  },
  {
   "cell_type": "code",
   "execution_count": 75,
   "metadata": {
    "collapsed": true
   },
   "outputs": [],
   "source": [
    "f = open(\"./../data/all_annotated_images.txt\")\n",
    "lines = f.readlines()"
   ]
  },
  {
   "cell_type": "markdown",
   "metadata": {},
   "source": [
    "Here, using regular expresions we split every line of information from file we obtaing a list of two elements corresponding to file_path and activity translated to word/words. Some file names follow a different patern anb we use find and '.jpg' string to split it:"
   ]
  },
  {
   "cell_type": "code",
   "execution_count": 76,
   "metadata": {
    "collapsed": true
   },
   "outputs": [],
   "source": [
    "import re\n",
    "\n",
    "def info_formated(string_info):\n",
    "    if \"(1)\" not in string_info: \n",
    "        file_path,activity_number = re.split(\"[ ]+\", string_info.rstrip())\n",
    "        return '/'+file_path,activities[int(activity_number)]\n",
    " \n",
    "    else: #casos especiales con nombre con (1) en el nombre de fichero\n",
    "        return '/'+string_info[:string_info.find(\".jpg\")+4],activities[int(string_info[string_info.find(\".jpg\")+5:])]\n",
    "\n",
    "with open(\"./../data/all_annotated_images.txt\") as f:\n",
    "    all_annotated_images = [info_formated(line) for line in f.readlines()]"
   ]
  },
  {
   "cell_type": "markdown",
   "metadata": {},
   "source": [
    "Some examples to check that information obtained with the file and corresponding photo is correct.Every time the cell is executed one picture with the activity as a title is ploted."
   ]
  },
  {
   "cell_type": "code",
   "execution_count": 77,
   "metadata": {
    "scrolled": true
   },
   "outputs": [
    {
     "name": "stdout",
     "output_type": "stream",
     "text": [
      "('/u2/2015-06-17/b00002405_21i7lf_20150617_134512e.jpg', 'Public transport')\n"
     ]
    },
    {
     "data": {
      "text/plain": [
       "<matplotlib.image.AxesImage at 0x7fe7f2e7d410>"
      ]
     },
     "execution_count": 77,
     "metadata": {},
     "output_type": "execute_result"
    },
    {
     "data": {
      "image/png": "[encoded data removed]",
      "text/plain": [
       "<matplotlib.figure.Figure at 0x7fe7e75f7410>"
      ]
     },
     "metadata": {},
     "output_type": "display_data"
    }
   ],
   "source": [
    "%matplotlib inline\n",
    "import random\n",
    "root_file = './../images/'\n",
    "sample = random.choice(all_annotated_images)\n",
    "print sample\n",
    "image_file, activity = sample\n",
    "image_path = root_file + image_file\n",
    "img = plt.imread(image_path)\n",
    "plt.title(activity)\n",
    "plt.grid('off')\n",
    "plt.imshow(img)"
   ]
  },
  {
   "cell_type": "code",
   "execution_count": 78,
   "metadata": {},
   "outputs": [
    {
     "data": {
      "text/plain": [
       "133707"
      ]
     },
     "execution_count": 78,
     "metadata": {},
     "output_type": "execute_result"
    }
   ],
   "source": [
    "len(df_xml[df_xml.activity.isnull()])"
   ]
  },
  {
   "cell_type": "markdown",
   "metadata": {},
   "source": [
    "Another problem of our data set is that some of the samples haven't got **image_path** variable related to them. For this reason we filter this samples because we won't to be able to use them in our analisys."
   ]
  },
  {
   "cell_type": "code",
   "execution_count": 79,
   "metadata": {},
   "outputs": [
    {
     "data": {
      "text/html": [
       "<div>\n",
       "<table border=\"1\" class=\"dataframe\">\n",
       "  <thead>\n",
       "    <tr style=\"text-align: right;\">\n",
       "      <th></th>\n",
       "      <th>index</th>\n",
       "      <th>user</th>\n",
       "      <th>age</th>\n",
       "      <th>day_id</th>\n",
       "      <th>date</th>\n",
       "      <th>image_directory</th>\n",
       "      <th>activity</th>\n",
       "      <th>image_id</th>\n",
       "      <th>image_path</th>\n",
       "      <th>location</th>\n",
       "      <th>gender</th>\n",
       "      <th>height</th>\n",
       "      <th>weight</th>\n",
       "    </tr>\n",
       "  </thead>\n",
       "  <tbody>\n",
       "    <tr>\n",
       "      <th>0</th>\n",
       "      <td>424</td>\n",
       "      <td>u1</td>\n",
       "      <td>40</td>\n",
       "      <td>1</td>\n",
       "      <td>23/02/2015</td>\n",
       "      <td>NTCIR-Lifelog_images/u1/2015-02-23/</td>\n",
       "      <td>NaN</td>\n",
       "      <td>u1_2015-02-23_070647_1</td>\n",
       "      <td>/u1/2015-02-23/b00000000_21i6bq_20150223_07064...</td>\n",
       "      <td>Home</td>\n",
       "      <td>male</td>\n",
       "      <td>173</td>\n",
       "      <td>78</td>\n",
       "    </tr>\n",
       "    <tr>\n",
       "      <th>1</th>\n",
       "      <td>426</td>\n",
       "      <td>u1</td>\n",
       "      <td>40</td>\n",
       "      <td>1</td>\n",
       "      <td>23/02/2015</td>\n",
       "      <td>NTCIR-Lifelog_images/u1/2015-02-23/</td>\n",
       "      <td>NaN</td>\n",
       "      <td>u1_2015-02-23_070808_1</td>\n",
       "      <td>/u1/2015-02-23/b00000001_21i6bq_20150223_07080...</td>\n",
       "      <td>Home</td>\n",
       "      <td>male</td>\n",
       "      <td>173</td>\n",
       "      <td>78</td>\n",
       "    </tr>\n",
       "    <tr>\n",
       "      <th>2</th>\n",
       "      <td>427</td>\n",
       "      <td>u1</td>\n",
       "      <td>40</td>\n",
       "      <td>1</td>\n",
       "      <td>23/02/2015</td>\n",
       "      <td>NTCIR-Lifelog_images/u1/2015-02-23/</td>\n",
       "      <td>NaN</td>\n",
       "      <td>u1_2015-02-23_070809_2</td>\n",
       "      <td>/u1/2015-02-23/b00000002_21i6bq_20150223_07080...</td>\n",
       "      <td>Home</td>\n",
       "      <td>male</td>\n",
       "      <td>173</td>\n",
       "      <td>78</td>\n",
       "    </tr>\n",
       "    <tr>\n",
       "      <th>3</th>\n",
       "      <td>428</td>\n",
       "      <td>u1</td>\n",
       "      <td>40</td>\n",
       "      <td>1</td>\n",
       "      <td>23/02/2015</td>\n",
       "      <td>NTCIR-Lifelog_images/u1/2015-02-23/</td>\n",
       "      <td>NaN</td>\n",
       "      <td>u1_2015-02-23_070810_3</td>\n",
       "      <td>/u1/2015-02-23/b00000003_21i6bq_20150223_07081...</td>\n",
       "      <td>Home</td>\n",
       "      <td>male</td>\n",
       "      <td>173</td>\n",
       "      <td>78</td>\n",
       "    </tr>\n",
       "    <tr>\n",
       "      <th>4</th>\n",
       "      <td>429</td>\n",
       "      <td>u1</td>\n",
       "      <td>40</td>\n",
       "      <td>1</td>\n",
       "      <td>23/02/2015</td>\n",
       "      <td>NTCIR-Lifelog_images/u1/2015-02-23/</td>\n",
       "      <td>NaN</td>\n",
       "      <td>u1_2015-02-23_070810_4</td>\n",
       "      <td>/u1/2015-02-23/b00000004_21i6bq_20150223_07081...</td>\n",
       "      <td>Home</td>\n",
       "      <td>male</td>\n",
       "      <td>173</td>\n",
       "      <td>78</td>\n",
       "    </tr>\n",
       "  </tbody>\n",
       "</table>\n",
       "</div>"
      ],
      "text/plain": [
       "   index user  age  day_id        date                      image_directory  \\\n",
       "0    424   u1   40       1  23/02/2015  NTCIR-Lifelog_images/u1/2015-02-23/   \n",
       "1    426   u1   40       1  23/02/2015  NTCIR-Lifelog_images/u1/2015-02-23/   \n",
       "2    427   u1   40       1  23/02/2015  NTCIR-Lifelog_images/u1/2015-02-23/   \n",
       "3    428   u1   40       1  23/02/2015  NTCIR-Lifelog_images/u1/2015-02-23/   \n",
       "4    429   u1   40       1  23/02/2015  NTCIR-Lifelog_images/u1/2015-02-23/   \n",
       "\n",
       "  activity                image_id  \\\n",
       "0      NaN  u1_2015-02-23_070647_1   \n",
       "1      NaN  u1_2015-02-23_070808_1   \n",
       "2      NaN  u1_2015-02-23_070809_2   \n",
       "3      NaN  u1_2015-02-23_070810_3   \n",
       "4      NaN  u1_2015-02-23_070810_4   \n",
       "\n",
       "                                          image_path location gender  height  \\\n",
       "0  /u1/2015-02-23/b00000000_21i6bq_20150223_07064...     Home   male     173   \n",
       "1  /u1/2015-02-23/b00000001_21i6bq_20150223_07080...     Home   male     173   \n",
       "2  /u1/2015-02-23/b00000002_21i6bq_20150223_07080...     Home   male     173   \n",
       "3  /u1/2015-02-23/b00000003_21i6bq_20150223_07081...     Home   male     173   \n",
       "4  /u1/2015-02-23/b00000004_21i6bq_20150223_07081...     Home   male     173   \n",
       "\n",
       "   weight  \n",
       "0      78  \n",
       "1      78  \n",
       "2      78  \n",
       "3      78  \n",
       "4      78  "
      ]
     },
     "execution_count": 79,
     "metadata": {},
     "output_type": "execute_result"
    }
   ],
   "source": [
    "not_empty= df_xml['image_path'].notnull() # create a filter (TRUE/FALSE)  not empty values in 'image path' column\n",
    "df_xml1=df_xml[not_empty].reset_index() # create new df and reset index\n",
    "df_xml1.head()"
   ]
  },
  {
   "cell_type": "code",
   "execution_count": 80,
   "metadata": {},
   "outputs": [
    {
     "name": "stdout",
     "output_type": "stream",
     "text": [
      "<class 'pandas.core.frame.DataFrame'>\n",
      "RangeIndex: 88124 entries, 0 to 88123\n",
      "Data columns (total 13 columns):\n",
      "index              88124 non-null int64\n",
      "user               88124 non-null object\n",
      "age                88124 non-null int64\n",
      "day_id             88124 non-null int64\n",
      "date               88124 non-null object\n",
      "image_directory    88124 non-null object\n",
      "activity           13883 non-null object\n",
      "image_id           88124 non-null object\n",
      "image_path         88124 non-null object\n",
      "location           49496 non-null object\n",
      "gender             88124 non-null object\n",
      "height             88124 non-null int64\n",
      "weight             88124 non-null int64\n",
      "dtypes: int64(5), object(8)\n",
      "memory usage: 8.7+ MB\n"
     ]
    }
   ],
   "source": [
    "df_xml1.info()"
   ]
  },
  {
   "cell_type": "code",
   "execution_count": 81,
   "metadata": {},
   "outputs": [
    {
     "data": {
      "text/plain": [
       "88124"
      ]
     },
     "execution_count": 81,
     "metadata": {},
     "output_type": "execute_result"
    }
   ],
   "source": [
    "len(df_xml1.activity)"
   ]
  },
  {
   "cell_type": "code",
   "execution_count": 82,
   "metadata": {},
   "outputs": [
    {
     "data": {
      "text/plain": [
       "74241"
      ]
     },
     "execution_count": 82,
     "metadata": {},
     "output_type": "execute_result"
    }
   ],
   "source": [
    "len(df_xml1[df_xml1.activity.isnull()])"
   ]
  },
  {
   "cell_type": "markdown",
   "metadata": {},
   "source": [
    "## Merging metadata information with detected objects with YOLO"
   ]
  },
  {
   "cell_type": "markdown",
   "metadata": {},
   "source": [
    "Before adding all the information from .txt file we check with 1 value that the procedure is correct."
   ]
  },
  {
   "cell_type": "code",
   "execution_count": 87,
   "metadata": {},
   "outputs": [
    {
     "data": {
      "text/html": [
       "<div>\n",
       "<table border=\"1\" class=\"dataframe\">\n",
       "  <thead>\n",
       "    <tr style=\"text-align: right;\">\n",
       "      <th></th>\n",
       "      <th>index</th>\n",
       "      <th>user</th>\n",
       "      <th>age</th>\n",
       "      <th>day_id</th>\n",
       "      <th>date</th>\n",
       "      <th>image_directory</th>\n",
       "      <th>activity</th>\n",
       "      <th>image_id</th>\n",
       "      <th>image_path</th>\n",
       "      <th>location</th>\n",
       "      <th>gender</th>\n",
       "      <th>height</th>\n",
       "      <th>weight</th>\n",
       "    </tr>\n",
       "  </thead>\n",
       "  <tbody>\n",
       "    <tr>\n",
       "      <th>63904</th>\n",
       "      <td>102810</td>\n",
       "      <td>u3</td>\n",
       "      <td>48</td>\n",
       "      <td>54</td>\n",
       "      <td>18/06/2015</td>\n",
       "      <td>NTCIR-Lifelog_images/u3/2015-06-18/</td>\n",
       "      <td>NaN</td>\n",
       "      <td>u3_2015-06-18_180747_2</td>\n",
       "      <td>/u3/2015-06-18/b00000472_21i79q_20150618_18074...</td>\n",
       "      <td>NaN</td>\n",
       "      <td>male</td>\n",
       "      <td>176</td>\n",
       "      <td>85</td>\n",
       "    </tr>\n",
       "  </tbody>\n",
       "</table>\n",
       "</div>"
      ],
      "text/plain": [
       "        index user  age  day_id        date  \\\n",
       "63904  102810   u3   48      54  18/06/2015   \n",
       "\n",
       "                           image_directory activity                image_id  \\\n",
       "63904  NTCIR-Lifelog_images/u3/2015-06-18/      NaN  u3_2015-06-18_180747_2   \n",
       "\n",
       "                                              image_path location gender  \\\n",
       "63904  /u3/2015-06-18/b00000472_21i79q_20150618_18074...      NaN   male   \n",
       "\n",
       "       height  weight  \n",
       "63904     176      85  "
      ]
     },
     "execution_count": 87,
     "metadata": {},
     "output_type": "execute_result"
    }
   ],
   "source": [
    "file_path_value = all_annotated_images[2][0]\n",
    "activity_value = all_annotated_images[2][1]\n",
    "\n",
    "df_xml1[df_xml1.image_path == file_path_value]"
   ]
  },
  {
   "cell_type": "code",
   "execution_count": 90,
   "metadata": {},
   "outputs": [],
   "source": [
    "df_xml1.loc[df_xml1.image_path == all_annotated_images[2][0], 'activity'] = activity_value"
   ]
  },
  {
   "cell_type": "markdown",
   "metadata": {},
   "source": [
    "last step verification, we check with 1 value that the procedure is correct..."
   ]
  },
  {
   "cell_type": "code",
   "execution_count": 91,
   "metadata": {},
   "outputs": [
    {
     "name": "stdout",
     "output_type": "stream",
     "text": [
      "Resting\n"
     ]
    },
    {
     "data": {
      "text/html": [
       "<div>\n",
       "<table border=\"1\" class=\"dataframe\">\n",
       "  <thead>\n",
       "    <tr style=\"text-align: right;\">\n",
       "      <th></th>\n",
       "      <th>index</th>\n",
       "      <th>user</th>\n",
       "      <th>age</th>\n",
       "      <th>day_id</th>\n",
       "      <th>date</th>\n",
       "      <th>image_directory</th>\n",
       "      <th>activity</th>\n",
       "      <th>image_id</th>\n",
       "      <th>image_path</th>\n",
       "      <th>location</th>\n",
       "      <th>gender</th>\n",
       "      <th>height</th>\n",
       "      <th>weight</th>\n",
       "    </tr>\n",
       "  </thead>\n",
       "  <tbody>\n",
       "    <tr>\n",
       "      <th>63904</th>\n",
       "      <td>102810</td>\n",
       "      <td>u3</td>\n",
       "      <td>48</td>\n",
       "      <td>54</td>\n",
       "      <td>18/06/2015</td>\n",
       "      <td>NTCIR-Lifelog_images/u3/2015-06-18/</td>\n",
       "      <td>Resting</td>\n",
       "      <td>u3_2015-06-18_180747_2</td>\n",
       "      <td>/u3/2015-06-18/b00000472_21i79q_20150618_18074...</td>\n",
       "      <td>NaN</td>\n",
       "      <td>male</td>\n",
       "      <td>176</td>\n",
       "      <td>85</td>\n",
       "    </tr>\n",
       "  </tbody>\n",
       "</table>\n",
       "</div>"
      ],
      "text/plain": [
       "        index user  age  day_id        date  \\\n",
       "63904  102810   u3   48      54  18/06/2015   \n",
       "\n",
       "                           image_directory activity                image_id  \\\n",
       "63904  NTCIR-Lifelog_images/u3/2015-06-18/  Resting  u3_2015-06-18_180747_2   \n",
       "\n",
       "                                              image_path location gender  \\\n",
       "63904  /u3/2015-06-18/b00000472_21i79q_20150618_18074...      NaN   male   \n",
       "\n",
       "       height  weight  \n",
       "63904     176      85  "
      ]
     },
     "execution_count": 91,
     "metadata": {},
     "output_type": "execute_result"
    }
   ],
   "source": [
    "print activity_value\n",
    "df_xml1[df_xml1.image_path == file_path_value]"
   ]
  },
  {
   "cell_type": "markdown",
   "metadata": {},
   "source": [
    "The activity has been added properly"
   ]
  },
  {
   "cell_type": "markdown",
   "metadata": {},
   "source": [
    "Now, we can do the same with all images paths and activities we have (might take 30 min to compute):"
   ]
  },
  {
   "cell_type": "code",
   "execution_count": 92,
   "metadata": {},
   "outputs": [
    {
     "name": "stdout",
     "output_type": "stream",
     "text": [
      "500 out of 45000\n",
      "1000 out of 45000\n",
      "1500 out of 45000\n",
      "2000 out of 45000\n",
      "2500 out of 45000\n",
      "3000 out of 45000\n",
      "3500 out of 45000\n",
      "4000 out of 45000\n",
      "4500 out of 45000\n",
      "5000 out of 45000\n",
      "5500 out of 45000\n",
      "6000 out of 45000\n",
      "6500 out of 45000\n",
      "7000 out of 45000\n",
      "7500 out of 45000\n",
      "8000 out of 45000\n",
      "8500 out of 45000\n",
      "9000 out of 45000\n",
      "9500 out of 45000\n",
      "10000 out of 45000\n",
      "10500 out of 45000\n",
      "11000 out of 45000\n",
      "11500 out of 45000\n",
      "12000 out of 45000\n",
      "12500 out of 45000\n",
      "13000 out of 45000\n",
      "13500 out of 45000\n",
      "14000 out of 45000\n",
      "14500 out of 45000\n",
      "15000 out of 45000\n",
      "15500 out of 45000\n",
      "16000 out of 45000\n",
      "16500 out of 45000\n",
      "17000 out of 45000\n",
      "17500 out of 45000\n",
      "18000 out of 45000\n",
      "18500 out of 45000\n",
      "19000 out of 45000\n",
      "19500 out of 45000\n",
      "20000 out of 45000\n",
      "20500 out of 45000\n",
      "21000 out of 45000\n",
      "21500 out of 45000\n",
      "22000 out of 45000\n",
      "22500 out of 45000\n",
      "23000 out of 45000\n",
      "23500 out of 45000\n",
      "24000 out of 45000\n",
      "24500 out of 45000\n",
      "25000 out of 45000\n",
      "25500 out of 45000\n",
      "26000 out of 45000\n",
      "26500 out of 45000\n",
      "27000 out of 45000\n",
      "27500 out of 45000\n",
      "28000 out of 45000\n",
      "28500 out of 45000\n",
      "29000 out of 45000\n",
      "29500 out of 45000\n",
      "30000 out of 45000\n",
      "30500 out of 45000\n",
      "31000 out of 45000\n",
      "31500 out of 45000\n",
      "32000 out of 45000\n",
      "32500 out of 45000\n",
      "33000 out of 45000\n",
      "33500 out of 45000\n",
      "34000 out of 45000\n",
      "34500 out of 45000\n",
      "35000 out of 45000\n",
      "35500 out of 45000\n",
      "36000 out of 45000\n",
      "36500 out of 45000\n",
      "37000 out of 45000\n",
      "37500 out of 45000\n",
      "38000 out of 45000\n",
      "38500 out of 45000\n",
      "39000 out of 45000\n",
      "39500 out of 45000\n",
      "40000 out of 45000\n",
      "40500 out of 45000\n",
      "41000 out of 45000\n",
      "41500 out of 45000\n",
      "42000 out of 45000\n",
      "42500 out of 45000\n",
      "43000 out of 45000\n",
      "43500 out of 45000\n",
      "44000 out of 45000\n",
      "44500 out of 45000\n",
      "45000 out of 45000\n"
     ]
    }
   ],
   "source": [
    "total =len(all_annotated_images)\n",
    "count = 1\n",
    "\n",
    "for sample in all_annotated_images:\n",
    "    \n",
    "    file_path_value = sample[0]\n",
    "    activity_value = sample[1]\n",
    "    df_xml1.loc[df_xml1.image_path == file_path_value, 'activity'] = activity_value\n",
    "    if count%500 == 0:\n",
    "        print str(count) +' out of '+ str(total)\n",
    "        count+=1\n",
    "    else:\n",
    "        count+=1"
   ]
  },
  {
   "cell_type": "code",
   "execution_count": 93,
   "metadata": {
    "collapsed": true
   },
   "outputs": [],
   "source": [
    "def getname(data):\n",
    "    return data.split('/')[3] \n",
    "\n",
    "df_xml1['filename']=df_xml1['image_path'].apply(getname) # add new column with the name of the jpg file"
   ]
  },
  {
   "cell_type": "code",
   "execution_count": 94,
   "metadata": {},
   "outputs": [
    {
     "name": "stdout",
     "output_type": "stream",
     "text": [
      "<class 'pandas.core.frame.DataFrame'>\n",
      "RangeIndex: 88124 entries, 0 to 88123\n",
      "Data columns (total 14 columns):\n",
      "index              88124 non-null int64\n",
      "user               88124 non-null object\n",
      "age                88124 non-null int64\n",
      "day_id             88124 non-null int64\n",
      "date               88124 non-null object\n",
      "image_directory    88124 non-null object\n",
      "activity           49903 non-null object\n",
      "image_id           88124 non-null object\n",
      "image_path         88124 non-null object\n",
      "location           49496 non-null object\n",
      "gender             88124 non-null object\n",
      "height             88124 non-null int64\n",
      "weight             88124 non-null int64\n",
      "filename           88124 non-null object\n",
      "dtypes: int64(5), object(9)\n",
      "memory usage: 9.4+ MB\n"
     ]
    }
   ],
   "source": [
    "df_xml1.head()\n",
    "df_xml1.info()"
   ]
  },
  {
   "cell_type": "code",
   "execution_count": 95,
   "metadata": {},
   "outputs": [
    {
     "data": {
      "text/plain": [
       "Working                        6971\n",
       "Resting                        5365\n",
       "Mobile                         5045\n",
       "Walking outdoors               3476\n",
       "Driving                        3001\n",
       "Talking                        2651\n",
       "walking                        2533\n",
       "transport                      2102\n",
       "Socializing                    1825\n",
       "Meeting                        1776\n",
       "Walking indoors                1741\n",
       "Having drinks\\meal alone       1652\n",
       "Public transport               1574\n",
       "Having drinks with somebody    1418\n",
       "TV                             1389\n",
       "Shopping                       1175\n",
       "Reading                        1174\n",
       "Having meal with somebody      1065\n",
       "Plane                          1030\n",
       "Attending a seminar            1023\n",
       "Cleaning and chores             827\n",
       "Cooking                         575\n",
       "Biking                          247\n",
       "bus                             219\n",
       "running                          38\n",
       "car                               7\n",
       "cycling                           4\n",
       "Name: activity, dtype: int64"
      ]
     },
     "execution_count": 95,
     "metadata": {},
     "output_type": "execute_result"
    }
   ],
   "source": [
    "df_xml1.activity.value_counts()"
   ]
  },
  {
   "cell_type": "markdown",
   "metadata": {},
   "source": [
    "There are activities that seems the same such as walking, Walking indoors, Walking outdoors"
   ]
  },
  {
   "cell_type": "markdown",
   "metadata": {},
   "source": [
    "Before we do anything further with the data let's merge this dataFrame with the previous dataframe from the image analysis from different users"
   ]
  },
  {
   "cell_type": "markdown",
   "metadata": {},
   "source": [
    "### Finally, we can merde all samples dataframes."
   ]
  },
  {
   "cell_type": "code",
   "execution_count": 96,
   "metadata": {
    "collapsed": true
   },
   "outputs": [],
   "source": [
    "df=pd.merge(df_xml1,df_all, on='filename')"
   ]
  },
  {
   "cell_type": "code",
   "execution_count": 97,
   "metadata": {},
   "outputs": [
    {
     "name": "stdout",
     "output_type": "stream",
     "text": [
      "<class 'pandas.core.frame.DataFrame'>\n",
      "Int64Index: 88124 entries, 0 to 88123\n",
      "Data columns (total 96 columns):\n",
      "index              88124 non-null int64\n",
      "user_x             88124 non-null object\n",
      "age                88124 non-null int64\n",
      "day_id             88124 non-null int64\n",
      "date_x             88124 non-null object\n",
      "image_directory    88124 non-null object\n",
      "activity           49903 non-null object\n",
      "image_id           88124 non-null object\n",
      "image_path         88124 non-null object\n",
      "location           49496 non-null object\n",
      "gender             88124 non-null object\n",
      "height             88124 non-null int64\n",
      "weight             88124 non-null int64\n",
      "filename           88124 non-null object\n",
      "user_y             88124 non-null object\n",
      "date_y             88124 non-null object\n",
      "toilet             88124 non-null float64\n",
      "teddy bear         88124 non-null float64\n",
      "sports ball        88124 non-null float64\n",
      "bicycle            88124 non-null float64\n",
      "apple              88124 non-null float64\n",
      "laptop             88124 non-null float64\n",
      "scissors           88124 non-null float64\n",
      "donut              88124 non-null float64\n",
      "snowboard          88124 non-null float64\n",
      "carrot             88124 non-null float64\n",
      "zebra              88124 non-null float64\n",
      "oven               88124 non-null float64\n",
      "keyboard           88124 non-null float64\n",
      "pottedplant        88124 non-null float64\n",
      "tvmonitor          88124 non-null float64\n",
      "chair              88124 non-null float64\n",
      "parking meter      88124 non-null float64\n",
      "mouse              88124 non-null float64\n",
      "frisbee            88124 non-null float64\n",
      "boat               88124 non-null float64\n",
      "kite               88124 non-null float64\n",
      "hair drier         88124 non-null float64\n",
      "horse              88124 non-null float64\n",
      "motorbike          88124 non-null float64\n",
      "banana             88124 non-null float64\n",
      "cup                88124 non-null float64\n",
      "backpack           88124 non-null float64\n",
      "toaster            88124 non-null float64\n",
      "bowl               88124 non-null float64\n",
      "microwave          88124 non-null float64\n",
      "bench              88124 non-null float64\n",
      "fire hydrant       88124 non-null float64\n",
      "book               88124 non-null float64\n",
      "diningtable        88124 non-null float64\n",
      "elephant           88124 non-null float64\n",
      "orange             88124 non-null float64\n",
      "tie                88124 non-null float64\n",
      "bird               88124 non-null float64\n",
      "knife              88124 non-null float64\n",
      "pizza              88124 non-null float64\n",
      "fork               88124 non-null float64\n",
      "sheep              88124 non-null float64\n",
      "sandwich           88124 non-null float64\n",
      "umbrella           88124 non-null float64\n",
      "aeroplane          88124 non-null float64\n",
      "tennis racket      88124 non-null float64\n",
      "sofa               88124 non-null float64\n",
      "bus                88124 non-null float64\n",
      "bear               88124 non-null float64\n",
      "vase               88124 non-null float64\n",
      "toothbrush         88124 non-null float64\n",
      "spoon              88124 non-null float64\n",
      "train              88124 non-null float64\n",
      "sink               88124 non-null float64\n",
      "stop sign          88124 non-null float64\n",
      "handbag            88124 non-null float64\n",
      "cell phone         88124 non-null float64\n",
      "broccoli           88124 non-null float64\n",
      "refrigerator       88124 non-null float64\n",
      "remote             88124 non-null float64\n",
      "surfboard          88124 non-null float64\n",
      "cow                88124 non-null float64\n",
      "hot dog            88124 non-null float64\n",
      "car                88124 non-null float64\n",
      "clock              88124 non-null float64\n",
      "skateboard         88124 non-null float64\n",
      "dog                88124 non-null float64\n",
      "bed                88124 non-null float64\n",
      "cat                88124 non-null float64\n",
      "person             88124 non-null float64\n",
      "skis               88124 non-null float64\n",
      "giraffe            88124 non-null float64\n",
      "truck              88124 non-null float64\n",
      "bottle             88124 non-null float64\n",
      "suitcase           88124 non-null float64\n",
      "cake               88124 non-null float64\n",
      "wine glass         88124 non-null float64\n",
      "baseball bat       88124 non-null float64\n",
      "traffic light      88124 non-null float64\n",
      "baseball glove     88124 non-null float64\n",
      "dtypes: float64(80), int64(5), object(11)\n",
      "memory usage: 65.2+ MB\n"
     ]
    }
   ],
   "source": [
    "df.info()"
   ]
  },
  {
   "cell_type": "code",
   "execution_count": 98,
   "metadata": {},
   "outputs": [
    {
     "data": {
      "text/html": [
       "<div>\n",
       "<table border=\"1\" class=\"dataframe\">\n",
       "  <thead>\n",
       "    <tr style=\"text-align: right;\">\n",
       "      <th></th>\n",
       "      <th>index</th>\n",
       "      <th>user_x</th>\n",
       "      <th>age</th>\n",
       "      <th>day_id</th>\n",
       "      <th>date_x</th>\n",
       "      <th>image_directory</th>\n",
       "      <th>activity</th>\n",
       "      <th>image_id</th>\n",
       "      <th>image_path</th>\n",
       "      <th>location</th>\n",
       "      <th>...</th>\n",
       "      <th>skis</th>\n",
       "      <th>giraffe</th>\n",
       "      <th>truck</th>\n",
       "      <th>bottle</th>\n",
       "      <th>suitcase</th>\n",
       "      <th>cake</th>\n",
       "      <th>wine glass</th>\n",
       "      <th>baseball bat</th>\n",
       "      <th>traffic light</th>\n",
       "      <th>baseball glove</th>\n",
       "    </tr>\n",
       "  </thead>\n",
       "  <tbody>\n",
       "    <tr>\n",
       "      <th>0</th>\n",
       "      <td>424</td>\n",
       "      <td>u1</td>\n",
       "      <td>40</td>\n",
       "      <td>1</td>\n",
       "      <td>23/02/2015</td>\n",
       "      <td>NTCIR-Lifelog_images/u1/2015-02-23/</td>\n",
       "      <td>NaN</td>\n",
       "      <td>u1_2015-02-23_070647_1</td>\n",
       "      <td>/u1/2015-02-23/b00000000_21i6bq_20150223_07064...</td>\n",
       "      <td>Home</td>\n",
       "      <td>...</td>\n",
       "      <td>0.0</td>\n",
       "      <td>0.0</td>\n",
       "      <td>0.0</td>\n",
       "      <td>0.10</td>\n",
       "      <td>0.0</td>\n",
       "      <td>0.0</td>\n",
       "      <td>0.0</td>\n",
       "      <td>0.0</td>\n",
       "      <td>0.0</td>\n",
       "      <td>0.0</td>\n",
       "    </tr>\n",
       "    <tr>\n",
       "      <th>1</th>\n",
       "      <td>426</td>\n",
       "      <td>u1</td>\n",
       "      <td>40</td>\n",
       "      <td>1</td>\n",
       "      <td>23/02/2015</td>\n",
       "      <td>NTCIR-Lifelog_images/u1/2015-02-23/</td>\n",
       "      <td>NaN</td>\n",
       "      <td>u1_2015-02-23_070808_1</td>\n",
       "      <td>/u1/2015-02-23/b00000001_21i6bq_20150223_07080...</td>\n",
       "      <td>Home</td>\n",
       "      <td>...</td>\n",
       "      <td>0.0</td>\n",
       "      <td>0.0</td>\n",
       "      <td>0.0</td>\n",
       "      <td>0.49</td>\n",
       "      <td>0.0</td>\n",
       "      <td>0.0</td>\n",
       "      <td>0.0</td>\n",
       "      <td>0.0</td>\n",
       "      <td>0.0</td>\n",
       "      <td>0.0</td>\n",
       "    </tr>\n",
       "    <tr>\n",
       "      <th>2</th>\n",
       "      <td>427</td>\n",
       "      <td>u1</td>\n",
       "      <td>40</td>\n",
       "      <td>1</td>\n",
       "      <td>23/02/2015</td>\n",
       "      <td>NTCIR-Lifelog_images/u1/2015-02-23/</td>\n",
       "      <td>NaN</td>\n",
       "      <td>u1_2015-02-23_070809_2</td>\n",
       "      <td>/u1/2015-02-23/b00000002_21i6bq_20150223_07080...</td>\n",
       "      <td>Home</td>\n",
       "      <td>...</td>\n",
       "      <td>0.0</td>\n",
       "      <td>0.0</td>\n",
       "      <td>0.0</td>\n",
       "      <td>0.14</td>\n",
       "      <td>0.0</td>\n",
       "      <td>0.0</td>\n",
       "      <td>0.0</td>\n",
       "      <td>0.0</td>\n",
       "      <td>0.0</td>\n",
       "      <td>0.0</td>\n",
       "    </tr>\n",
       "    <tr>\n",
       "      <th>3</th>\n",
       "      <td>428</td>\n",
       "      <td>u1</td>\n",
       "      <td>40</td>\n",
       "      <td>1</td>\n",
       "      <td>23/02/2015</td>\n",
       "      <td>NTCIR-Lifelog_images/u1/2015-02-23/</td>\n",
       "      <td>NaN</td>\n",
       "      <td>u1_2015-02-23_070810_3</td>\n",
       "      <td>/u1/2015-02-23/b00000003_21i6bq_20150223_07081...</td>\n",
       "      <td>Home</td>\n",
       "      <td>...</td>\n",
       "      <td>0.0</td>\n",
       "      <td>0.0</td>\n",
       "      <td>0.0</td>\n",
       "      <td>0.36</td>\n",
       "      <td>0.0</td>\n",
       "      <td>0.0</td>\n",
       "      <td>0.0</td>\n",
       "      <td>0.0</td>\n",
       "      <td>0.0</td>\n",
       "      <td>0.0</td>\n",
       "    </tr>\n",
       "  </tbody>\n",
       "</table>\n",
       "<p>4 rows × 96 columns</p>\n",
       "</div>"
      ],
      "text/plain": [
       "   index user_x  age  day_id      date_x                      image_directory  \\\n",
       "0    424     u1   40       1  23/02/2015  NTCIR-Lifelog_images/u1/2015-02-23/   \n",
       "1    426     u1   40       1  23/02/2015  NTCIR-Lifelog_images/u1/2015-02-23/   \n",
       "2    427     u1   40       1  23/02/2015  NTCIR-Lifelog_images/u1/2015-02-23/   \n",
       "3    428     u1   40       1  23/02/2015  NTCIR-Lifelog_images/u1/2015-02-23/   \n",
       "\n",
       "  activity                image_id  \\\n",
       "0      NaN  u1_2015-02-23_070647_1   \n",
       "1      NaN  u1_2015-02-23_070808_1   \n",
       "2      NaN  u1_2015-02-23_070809_2   \n",
       "3      NaN  u1_2015-02-23_070810_3   \n",
       "\n",
       "                                          image_path location       ...        \\\n",
       "0  /u1/2015-02-23/b00000000_21i6bq_20150223_07064...     Home       ...         \n",
       "1  /u1/2015-02-23/b00000001_21i6bq_20150223_07080...     Home       ...         \n",
       "2  /u1/2015-02-23/b00000002_21i6bq_20150223_07080...     Home       ...         \n",
       "3  /u1/2015-02-23/b00000003_21i6bq_20150223_07081...     Home       ...         \n",
       "\n",
       "  skis  giraffe  truck bottle suitcase cake  wine glass  baseball bat  \\\n",
       "0  0.0      0.0    0.0   0.10      0.0  0.0         0.0           0.0   \n",
       "1  0.0      0.0    0.0   0.49      0.0  0.0         0.0           0.0   \n",
       "2  0.0      0.0    0.0   0.14      0.0  0.0         0.0           0.0   \n",
       "3  0.0      0.0    0.0   0.36      0.0  0.0         0.0           0.0   \n",
       "\n",
       "   traffic light  baseball glove  \n",
       "0            0.0             0.0  \n",
       "1            0.0             0.0  \n",
       "2            0.0             0.0  \n",
       "3            0.0             0.0  \n",
       "\n",
       "[4 rows x 96 columns]"
      ]
     },
     "execution_count": 98,
     "metadata": {},
     "output_type": "execute_result"
    }
   ],
   "source": [
    "df.head(4)"
   ]
  },
  {
   "cell_type": "code",
   "execution_count": 99,
   "metadata": {
    "collapsed": true
   },
   "outputs": [],
   "source": [
    "df = df.rename(columns={'user_x': 'user', 'date_x': 'date'})"
   ]
  },
  {
   "cell_type": "code",
   "execution_count": 100,
   "metadata": {},
   "outputs": [
    {
     "data": {
      "text/plain": [
       "Index([u'index', u'user', u'age', u'day_id', u'date', u'image_directory',\n",
       "       u'activity', u'image_id', u'image_path', u'location', u'gender',\n",
       "       u'height', u'weight', u'filename', u'user_y', u'date_y', u'toilet',\n",
       "       u'teddy bear', u'sports ball', u'bicycle', u'apple', u'laptop',\n",
       "       u'scissors', u'donut', u'snowboard', u'carrot', u'zebra', u'oven',\n",
       "       u'keyboard', u'pottedplant', u'tvmonitor', u'chair', u'parking meter',\n",
       "       u'mouse', u'frisbee', u'boat', u'kite', u'hair drier', u'horse',\n",
       "       u'motorbike', u'banana', u'cup', u'backpack', u'toaster', u'bowl',\n",
       "       u'microwave', u'bench', u'fire hydrant', u'book', u'diningtable',\n",
       "       u'elephant', u'orange', u'tie', u'bird', u'knife', u'pizza', u'fork',\n",
       "       u'sheep', u'sandwich', u'umbrella', u'aeroplane', u'tennis racket',\n",
       "       u'sofa', u'bus', u'bear', u'vase', u'toothbrush', u'spoon', u'train',\n",
       "       u'sink', u'stop sign', u'handbag', u'cell phone', u'broccoli',\n",
       "       u'refrigerator', u'remote', u'surfboard', u'cow', u'hot dog', u'car',\n",
       "       u'clock', u'skateboard', u'dog', u'bed', u'cat', u'person', u'skis',\n",
       "       u'giraffe', u'truck', u'bottle', u'suitcase', u'cake', u'wine glass',\n",
       "       u'baseball bat', u'traffic light', u'baseball glove'],\n",
       "      dtype='object')"
      ]
     },
     "execution_count": 100,
     "metadata": {},
     "output_type": "execute_result"
    }
   ],
   "source": [
    "df.columns"
   ]
  },
  {
   "cell_type": "code",
   "execution_count": 101,
   "metadata": {
    "collapsed": true
   },
   "outputs": [],
   "source": [
    "new_columns=['user', 'age', 'day_id','date', 'activity','image_path','filename','location',\n",
    "             'gender', 'height', 'weight','person','chair', 'book', 'tvmonitor', 'laptop', 'bottle','cup', 'car','diningtable', 'cell phone',\n",
    "             'keyboard', 'bowl', 'mouse', 'clock','toilet', 'sink', 'remote', 'suitcase', 'pottedplant','refrigerator',\n",
    "             'knife', 'handbag', 'vase', 'aeroplane', 'cat','bed', 'sofa', 'backpack', 'tie', 'spoon', 'toothbrush',\n",
    "             'traffic light', 'bicycle', 'train', 'bird', 'microwave', 'bench','fork', 'oven', 'motorbike', 'donut',\n",
    "             'wine glass', 'pizza','apple', 'scissors', 'umbrella', 'cake', 'bus', 'truck','banana', 'parking meter',\n",
    "             'sandwich', 'sports ball', 'broccoli','carrot', 'orange', 'teddy bear', 'dog', 'snowboard','skateboard', 'boat',\n",
    "             'surfboard', 'frisbee', 'skis', 'hot dog','bear', 'elephant', 'toaster', 'stop sign', 'hair drier', 'kite',\n",
    "             'sheep', 'zebra', 'tennis racket', 'baseball bat', 'fire hydrant','horse', 'cow', 'giraffe', 'baseball glove']"
   ]
  },
  {
   "cell_type": "code",
   "execution_count": 102,
   "metadata": {},
   "outputs": [
    {
     "data": {
      "text/plain": [
       "(88124, 96)"
      ]
     },
     "execution_count": 102,
     "metadata": {},
     "output_type": "execute_result"
    }
   ],
   "source": [
    "df.shape"
   ]
  },
  {
   "cell_type": "markdown",
   "metadata": {},
   "source": [
    "remove rows where there is any NaN in the activity column"
   ]
  },
  {
   "cell_type": "code",
   "execution_count": 103,
   "metadata": {
    "collapsed": true
   },
   "outputs": [],
   "source": [
    "df=df[df.activity.notnull()]"
   ]
  },
  {
   "cell_type": "code",
   "execution_count": 104,
   "metadata": {},
   "outputs": [
    {
     "data": {
      "text/html": [
       "<div>\n",
       "<table border=\"1\" class=\"dataframe\">\n",
       "  <thead>\n",
       "    <tr style=\"text-align: right;\">\n",
       "      <th></th>\n",
       "      <th>index</th>\n",
       "      <th>user</th>\n",
       "      <th>age</th>\n",
       "      <th>day_id</th>\n",
       "      <th>date</th>\n",
       "      <th>image_directory</th>\n",
       "      <th>activity</th>\n",
       "      <th>image_id</th>\n",
       "      <th>image_path</th>\n",
       "      <th>location</th>\n",
       "      <th>...</th>\n",
       "      <th>skis</th>\n",
       "      <th>giraffe</th>\n",
       "      <th>truck</th>\n",
       "      <th>bottle</th>\n",
       "      <th>suitcase</th>\n",
       "      <th>cake</th>\n",
       "      <th>wine glass</th>\n",
       "      <th>baseball bat</th>\n",
       "      <th>traffic light</th>\n",
       "      <th>baseball glove</th>\n",
       "    </tr>\n",
       "  </thead>\n",
       "  <tbody>\n",
       "    <tr>\n",
       "      <th>6</th>\n",
       "      <td>431</td>\n",
       "      <td>u1</td>\n",
       "      <td>40</td>\n",
       "      <td>1</td>\n",
       "      <td>23/02/2015</td>\n",
       "      <td>NTCIR-Lifelog_images/u1/2015-02-23/</td>\n",
       "      <td>Mobile</td>\n",
       "      <td>u1_2015-02-23_070812_6</td>\n",
       "      <td>/u1/2015-02-23/b00000006_21i6bq_20150223_07081...</td>\n",
       "      <td>Home</td>\n",
       "      <td>...</td>\n",
       "      <td>0.0</td>\n",
       "      <td>0.0</td>\n",
       "      <td>0.0</td>\n",
       "      <td>0.0</td>\n",
       "      <td>0.0</td>\n",
       "      <td>0.0</td>\n",
       "      <td>0.0</td>\n",
       "      <td>0.0</td>\n",
       "      <td>0.0</td>\n",
       "      <td>0.0</td>\n",
       "    </tr>\n",
       "  </tbody>\n",
       "</table>\n",
       "<p>1 rows × 96 columns</p>\n",
       "</div>"
      ],
      "text/plain": [
       "   index user  age  day_id        date                      image_directory  \\\n",
       "6    431   u1   40       1  23/02/2015  NTCIR-Lifelog_images/u1/2015-02-23/   \n",
       "\n",
       "  activity                image_id  \\\n",
       "6   Mobile  u1_2015-02-23_070812_6   \n",
       "\n",
       "                                          image_path location       ...        \\\n",
       "6  /u1/2015-02-23/b00000006_21i6bq_20150223_07081...     Home       ...         \n",
       "\n",
       "  skis  giraffe  truck bottle suitcase cake  wine glass  baseball bat  \\\n",
       "6  0.0      0.0    0.0    0.0      0.0  0.0         0.0           0.0   \n",
       "\n",
       "   traffic light  baseball glove  \n",
       "6            0.0             0.0  \n",
       "\n",
       "[1 rows x 96 columns]"
      ]
     },
     "execution_count": 104,
     "metadata": {},
     "output_type": "execute_result"
    }
   ],
   "source": [
    "df.head(1)"
   ]
  },
  {
   "cell_type": "code",
   "execution_count": 105,
   "metadata": {},
   "outputs": [
    {
     "data": {
      "text/plain": [
       "(49903, 96)"
      ]
     },
     "execution_count": 105,
     "metadata": {},
     "output_type": "execute_result"
    }
   ],
   "source": [
    "df.shape"
   ]
  },
  {
   "cell_type": "code",
   "execution_count": 106,
   "metadata": {},
   "outputs": [
    {
     "data": {
      "text/plain": [
       "Working                        6971\n",
       "Resting                        5365\n",
       "Mobile                         5045\n",
       "Walking outdoors               3476\n",
       "Driving                        3001\n",
       "Talking                        2651\n",
       "walking                        2533\n",
       "transport                      2102\n",
       "Socializing                    1825\n",
       "Meeting                        1776\n",
       "Walking indoors                1741\n",
       "Having drinks\\meal alone       1652\n",
       "Public transport               1574\n",
       "Having drinks with somebody    1418\n",
       "TV                             1389\n",
       "Shopping                       1175\n",
       "Reading                        1174\n",
       "Having meal with somebody      1065\n",
       "Plane                          1030\n",
       "Attending a seminar            1023\n",
       "Cleaning and chores             827\n",
       "Cooking                         575\n",
       "Biking                          247\n",
       "bus                             219\n",
       "running                          38\n",
       "car                               7\n",
       "cycling                           4\n",
       "Name: activity, dtype: int64"
      ]
     },
     "execution_count": 106,
     "metadata": {},
     "output_type": "execute_result"
    }
   ],
   "source": [
    "# coming back on the activity...\n",
    "df.activity.value_counts()"
   ]
  },
  {
   "cell_type": "markdown",
   "metadata": {},
   "source": [
    "We drop two activities (car and cycling) from DataFrame because we have only few occurrences:"
   ]
  },
  {
   "cell_type": "code",
   "execution_count": 107,
   "metadata": {
    "collapsed": true
   },
   "outputs": [],
   "source": [
    "def activity_list(action): # return a list of files with the specific activity\n",
    "    data = df[df.activity==action]['image_path'].values\n",
    "    return data"
   ]
  },
  {
   "cell_type": "code",
   "execution_count": 108,
   "metadata": {
    "collapsed": true
   },
   "outputs": [],
   "source": [
    "df = df[df.activity != 'car']"
   ]
  },
  {
   "cell_type": "markdown",
   "metadata": {},
   "source": [
    "Well, we finally converted 'cycling' to 'Biking' that we undertand that characterize the same kind of activity:"
   ]
  },
  {
   "cell_type": "code",
   "execution_count": 109,
   "metadata": {
    "collapsed": true
   },
   "outputs": [],
   "source": [
    "#convert cycling as Biking activity\n",
    "df.activity.replace('cycling','Biking',inplace=True)"
   ]
  },
  {
   "cell_type": "markdown",
   "metadata": {},
   "source": [
    "We also merged similar activities:"
   ]
  },
  {
   "cell_type": "code",
   "execution_count": 110,
   "metadata": {
    "collapsed": true
   },
   "outputs": [],
   "source": [
    "#convert running as walking activity\n",
    "df.activity.replace('running','walking',inplace=True)"
   ]
  },
  {
   "cell_type": "code",
   "execution_count": 111,
   "metadata": {
    "collapsed": true
   },
   "outputs": [],
   "source": [
    "#convert Walking outdoors and Walking indoors as walking activity\n",
    "df.activity.replace('Walking outdoors','walking',inplace=True)\n",
    "df.activity.replace('Walking indoors','walking',inplace=True)"
   ]
  },
  {
   "cell_type": "code",
   "execution_count": 114,
   "metadata": {
    "collapsed": true
   },
   "outputs": [],
   "source": [
    "#convert bus and Public transport as transport\n",
    "df.activity.replace('bus','transport',inplace=True)\n",
    "df.activity.replace('Public transport','transport',inplace=True) "
   ]
  },
  {
   "cell_type": "markdown",
   "metadata": {},
   "source": [
    "To finally obtain 20 different activities:"
   ]
  },
  {
   "cell_type": "code",
   "execution_count": 116,
   "metadata": {},
   "outputs": [
    {
     "data": {
      "text/plain": [
       "(walking                        7788\n",
       " Working                        6971\n",
       " Resting                        5365\n",
       " Mobile                         5045\n",
       " transport                      3895\n",
       " Driving                        3001\n",
       " Talking                        2651\n",
       " Socializing                    1825\n",
       " Meeting                        1776\n",
       " Having drinks\\meal alone       1652\n",
       " Having drinks with somebody    1418\n",
       " TV                             1389\n",
       " Shopping                       1175\n",
       " Reading                        1174\n",
       " Having meal with somebody      1065\n",
       " Plane                          1030\n",
       " Attending a seminar            1023\n",
       " Cleaning and chores             827\n",
       " Cooking                         575\n",
       " Biking                          251\n",
       " Name: activity, dtype: int64, 20)"
      ]
     },
     "execution_count": 116,
     "metadata": {},
     "output_type": "execute_result"
    }
   ],
   "source": [
    "df.activity.value_counts(),len(df.activity.value_counts())"
   ]
  },
  {
   "cell_type": "code",
   "execution_count": 117,
   "metadata": {
    "collapsed": true
   },
   "outputs": [],
   "source": [
    "#convert all activity tags into lower case\n",
    "df.activity= df.activity.str.lower()"
   ]
  },
  {
   "cell_type": "markdown",
   "metadata": {},
   "source": [
    "Checking one random activity:"
   ]
  },
  {
   "cell_type": "code",
   "execution_count": 122,
   "metadata": {},
   "outputs": [
    {
     "name": "stdout",
     "output_type": "stream",
     "text": [
      "/u3/2015-08-01/b00006456_21i79q_20150801_201752e.jpg\n"
     ]
    },
    {
     "data": {
      "text/plain": [
       "<matplotlib.image.AxesImage at 0x7fe7d7abc150>"
      ]
     },
     "execution_count": 122,
     "metadata": {},
     "output_type": "execute_result"
    },
    {
     "data": {
      "image/png": "[encoded data removed]",
      "text/plain": [
       "<matplotlib.figure.Figure at 0x7fe7f308cc10>"
      ]
     },
     "metadata": {},
     "output_type": "display_data"
    }
   ],
   "source": [
    "%matplotlib inline\n",
    "root_file = './../images'\n",
    "action = 'mobile' #get these images with this activity\n",
    "sample = random.choice(activity_list(action)) #take one image at random\n",
    "print sample\n",
    "image_path = root_file + sample\n",
    "img = plt.imread(image_path)\n",
    "plt.title(action)\n",
    "plt.grid('off')\n",
    "plt.imshow(img)"
   ]
  },
  {
   "cell_type": "code",
   "execution_count": 123,
   "metadata": {},
   "outputs": [
    {
     "data": {
      "text/html": [
       "<div>\n",
       "<table border=\"1\" class=\"dataframe\">\n",
       "  <thead>\n",
       "    <tr style=\"text-align: right;\">\n",
       "      <th></th>\n",
       "      <th>index</th>\n",
       "      <th>user</th>\n",
       "      <th>age</th>\n",
       "      <th>day_id</th>\n",
       "      <th>date</th>\n",
       "      <th>image_directory</th>\n",
       "      <th>activity</th>\n",
       "      <th>image_id</th>\n",
       "      <th>image_path</th>\n",
       "      <th>location</th>\n",
       "      <th>...</th>\n",
       "      <th>skis</th>\n",
       "      <th>giraffe</th>\n",
       "      <th>truck</th>\n",
       "      <th>bottle</th>\n",
       "      <th>suitcase</th>\n",
       "      <th>cake</th>\n",
       "      <th>wine glass</th>\n",
       "      <th>baseball bat</th>\n",
       "      <th>traffic light</th>\n",
       "      <th>baseball glove</th>\n",
       "    </tr>\n",
       "  </thead>\n",
       "  <tbody>\n",
       "    <tr>\n",
       "      <th>6</th>\n",
       "      <td>431</td>\n",
       "      <td>u1</td>\n",
       "      <td>40</td>\n",
       "      <td>1</td>\n",
       "      <td>23/02/2015</td>\n",
       "      <td>NTCIR-Lifelog_images/u1/2015-02-23/</td>\n",
       "      <td>mobile</td>\n",
       "      <td>u1_2015-02-23_070812_6</td>\n",
       "      <td>/u1/2015-02-23/b00000006_21i6bq_20150223_07081...</td>\n",
       "      <td>Home</td>\n",
       "      <td>...</td>\n",
       "      <td>0.0</td>\n",
       "      <td>0.0</td>\n",
       "      <td>0.0</td>\n",
       "      <td>0.00</td>\n",
       "      <td>0.0</td>\n",
       "      <td>0.0</td>\n",
       "      <td>0.0</td>\n",
       "      <td>0.0</td>\n",
       "      <td>0.0</td>\n",
       "      <td>0.0</td>\n",
       "    </tr>\n",
       "    <tr>\n",
       "      <th>7</th>\n",
       "      <td>432</td>\n",
       "      <td>u1</td>\n",
       "      <td>40</td>\n",
       "      <td>1</td>\n",
       "      <td>23/02/2015</td>\n",
       "      <td>NTCIR-Lifelog_images/u1/2015-02-23/</td>\n",
       "      <td>cooking</td>\n",
       "      <td>u1_2015-02-23_070813_7</td>\n",
       "      <td>/u1/2015-02-23/b00000007_21i6bq_20150223_07081...</td>\n",
       "      <td>Home</td>\n",
       "      <td>...</td>\n",
       "      <td>0.0</td>\n",
       "      <td>0.0</td>\n",
       "      <td>0.0</td>\n",
       "      <td>0.17</td>\n",
       "      <td>0.0</td>\n",
       "      <td>0.0</td>\n",
       "      <td>0.0</td>\n",
       "      <td>0.0</td>\n",
       "      <td>0.0</td>\n",
       "      <td>0.0</td>\n",
       "    </tr>\n",
       "    <tr>\n",
       "      <th>8</th>\n",
       "      <td>433</td>\n",
       "      <td>u1</td>\n",
       "      <td>40</td>\n",
       "      <td>1</td>\n",
       "      <td>23/02/2015</td>\n",
       "      <td>NTCIR-Lifelog_images/u1/2015-02-23/</td>\n",
       "      <td>cooking</td>\n",
       "      <td>u1_2015-02-23_070813_8</td>\n",
       "      <td>/u1/2015-02-23/b00000008_21i6bq_20150223_07081...</td>\n",
       "      <td>Home</td>\n",
       "      <td>...</td>\n",
       "      <td>0.0</td>\n",
       "      <td>0.0</td>\n",
       "      <td>0.0</td>\n",
       "      <td>0.00</td>\n",
       "      <td>0.0</td>\n",
       "      <td>0.0</td>\n",
       "      <td>0.0</td>\n",
       "      <td>0.0</td>\n",
       "      <td>0.0</td>\n",
       "      <td>0.0</td>\n",
       "    </tr>\n",
       "    <tr>\n",
       "      <th>9</th>\n",
       "      <td>434</td>\n",
       "      <td>u1</td>\n",
       "      <td>40</td>\n",
       "      <td>1</td>\n",
       "      <td>23/02/2015</td>\n",
       "      <td>NTCIR-Lifelog_images/u1/2015-02-23/</td>\n",
       "      <td>cooking</td>\n",
       "      <td>u1_2015-02-23_070814_9</td>\n",
       "      <td>/u1/2015-02-23/b00000009_21i6bq_20150223_07081...</td>\n",
       "      <td>Home</td>\n",
       "      <td>...</td>\n",
       "      <td>0.0</td>\n",
       "      <td>0.0</td>\n",
       "      <td>0.0</td>\n",
       "      <td>0.36</td>\n",
       "      <td>0.0</td>\n",
       "      <td>0.0</td>\n",
       "      <td>0.0</td>\n",
       "      <td>0.0</td>\n",
       "      <td>0.0</td>\n",
       "      <td>0.0</td>\n",
       "    </tr>\n",
       "    <tr>\n",
       "      <th>10</th>\n",
       "      <td>435</td>\n",
       "      <td>u1</td>\n",
       "      <td>40</td>\n",
       "      <td>1</td>\n",
       "      <td>23/02/2015</td>\n",
       "      <td>NTCIR-Lifelog_images/u1/2015-02-23/</td>\n",
       "      <td>cooking</td>\n",
       "      <td>u1_2015-02-23_070822_10</td>\n",
       "      <td>/u1/2015-02-23/b00000010_21i6bq_20150223_07082...</td>\n",
       "      <td>Home</td>\n",
       "      <td>...</td>\n",
       "      <td>0.0</td>\n",
       "      <td>0.0</td>\n",
       "      <td>0.0</td>\n",
       "      <td>0.45</td>\n",
       "      <td>0.0</td>\n",
       "      <td>0.0</td>\n",
       "      <td>0.0</td>\n",
       "      <td>0.0</td>\n",
       "      <td>0.0</td>\n",
       "      <td>0.0</td>\n",
       "    </tr>\n",
       "  </tbody>\n",
       "</table>\n",
       "<p>5 rows × 96 columns</p>\n",
       "</div>"
      ],
      "text/plain": [
       "    index user  age  day_id        date                      image_directory  \\\n",
       "6     431   u1   40       1  23/02/2015  NTCIR-Lifelog_images/u1/2015-02-23/   \n",
       "7     432   u1   40       1  23/02/2015  NTCIR-Lifelog_images/u1/2015-02-23/   \n",
       "8     433   u1   40       1  23/02/2015  NTCIR-Lifelog_images/u1/2015-02-23/   \n",
       "9     434   u1   40       1  23/02/2015  NTCIR-Lifelog_images/u1/2015-02-23/   \n",
       "10    435   u1   40       1  23/02/2015  NTCIR-Lifelog_images/u1/2015-02-23/   \n",
       "\n",
       "   activity                 image_id  \\\n",
       "6    mobile   u1_2015-02-23_070812_6   \n",
       "7   cooking   u1_2015-02-23_070813_7   \n",
       "8   cooking   u1_2015-02-23_070813_8   \n",
       "9   cooking   u1_2015-02-23_070814_9   \n",
       "10  cooking  u1_2015-02-23_070822_10   \n",
       "\n",
       "                                           image_path location  \\\n",
       "6   /u1/2015-02-23/b00000006_21i6bq_20150223_07081...     Home   \n",
       "7   /u1/2015-02-23/b00000007_21i6bq_20150223_07081...     Home   \n",
       "8   /u1/2015-02-23/b00000008_21i6bq_20150223_07081...     Home   \n",
       "9   /u1/2015-02-23/b00000009_21i6bq_20150223_07081...     Home   \n",
       "10  /u1/2015-02-23/b00000010_21i6bq_20150223_07082...     Home   \n",
       "\n",
       "         ...       skis  giraffe  truck bottle suitcase cake  wine glass  \\\n",
       "6        ...        0.0      0.0    0.0   0.00      0.0  0.0         0.0   \n",
       "7        ...        0.0      0.0    0.0   0.17      0.0  0.0         0.0   \n",
       "8        ...        0.0      0.0    0.0   0.00      0.0  0.0         0.0   \n",
       "9        ...        0.0      0.0    0.0   0.36      0.0  0.0         0.0   \n",
       "10       ...        0.0      0.0    0.0   0.45      0.0  0.0         0.0   \n",
       "\n",
       "    baseball bat  traffic light  baseball glove  \n",
       "6            0.0            0.0             0.0  \n",
       "7            0.0            0.0             0.0  \n",
       "8            0.0            0.0             0.0  \n",
       "9            0.0            0.0             0.0  \n",
       "10           0.0            0.0             0.0  \n",
       "\n",
       "[5 rows x 96 columns]"
      ]
     },
     "execution_count": 123,
     "metadata": {},
     "output_type": "execute_result"
    }
   ],
   "source": [
    "df.reset_index()\n",
    "df.head()"
   ]
  },
  {
   "cell_type": "code",
   "execution_count": 124,
   "metadata": {},
   "outputs": [
    {
     "data": {
      "text/plain": [
       "(49896, 96)"
      ]
     },
     "execution_count": 124,
     "metadata": {},
     "output_type": "execute_result"
    }
   ],
   "source": [
    "df.shape"
   ]
  },
  {
   "cell_type": "code",
   "execution_count": 125,
   "metadata": {
    "collapsed": true
   },
   "outputs": [],
   "source": [
    "#we add this 2 columns to the dataframe\n",
    "df['day_of_week'] = pd.to_datetime(df['date']).dt.dayofweek\n",
    "df['day_of_week_name'] = pd.to_datetime(df['date']).dt.weekday_name"
   ]
  },
  {
   "cell_type": "code",
   "execution_count": 126,
   "metadata": {},
   "outputs": [
    {
     "data": {
      "text/html": [
       "<div>\n",
       "<table border=\"1\" class=\"dataframe\">\n",
       "  <thead>\n",
       "    <tr style=\"text-align: right;\">\n",
       "      <th></th>\n",
       "      <th>index</th>\n",
       "      <th>user</th>\n",
       "      <th>age</th>\n",
       "      <th>day_id</th>\n",
       "      <th>date</th>\n",
       "      <th>image_directory</th>\n",
       "      <th>activity</th>\n",
       "      <th>image_id</th>\n",
       "      <th>image_path</th>\n",
       "      <th>location</th>\n",
       "      <th>...</th>\n",
       "      <th>truck</th>\n",
       "      <th>bottle</th>\n",
       "      <th>suitcase</th>\n",
       "      <th>cake</th>\n",
       "      <th>wine glass</th>\n",
       "      <th>baseball bat</th>\n",
       "      <th>traffic light</th>\n",
       "      <th>baseball glove</th>\n",
       "      <th>day_of_week</th>\n",
       "      <th>day_of_week_name</th>\n",
       "    </tr>\n",
       "  </thead>\n",
       "  <tbody>\n",
       "    <tr>\n",
       "      <th>6</th>\n",
       "      <td>431</td>\n",
       "      <td>u1</td>\n",
       "      <td>40</td>\n",
       "      <td>1</td>\n",
       "      <td>23/02/2015</td>\n",
       "      <td>NTCIR-Lifelog_images/u1/2015-02-23/</td>\n",
       "      <td>mobile</td>\n",
       "      <td>u1_2015-02-23_070812_6</td>\n",
       "      <td>/u1/2015-02-23/b00000006_21i6bq_20150223_07081...</td>\n",
       "      <td>Home</td>\n",
       "      <td>...</td>\n",
       "      <td>0.0</td>\n",
       "      <td>0.00</td>\n",
       "      <td>0.0</td>\n",
       "      <td>0.0</td>\n",
       "      <td>0.0</td>\n",
       "      <td>0.0</td>\n",
       "      <td>0.0</td>\n",
       "      <td>0.0</td>\n",
       "      <td>0</td>\n",
       "      <td>Monday</td>\n",
       "    </tr>\n",
       "    <tr>\n",
       "      <th>7</th>\n",
       "      <td>432</td>\n",
       "      <td>u1</td>\n",
       "      <td>40</td>\n",
       "      <td>1</td>\n",
       "      <td>23/02/2015</td>\n",
       "      <td>NTCIR-Lifelog_images/u1/2015-02-23/</td>\n",
       "      <td>cooking</td>\n",
       "      <td>u1_2015-02-23_070813_7</td>\n",
       "      <td>/u1/2015-02-23/b00000007_21i6bq_20150223_07081...</td>\n",
       "      <td>Home</td>\n",
       "      <td>...</td>\n",
       "      <td>0.0</td>\n",
       "      <td>0.17</td>\n",
       "      <td>0.0</td>\n",
       "      <td>0.0</td>\n",
       "      <td>0.0</td>\n",
       "      <td>0.0</td>\n",
       "      <td>0.0</td>\n",
       "      <td>0.0</td>\n",
       "      <td>0</td>\n",
       "      <td>Monday</td>\n",
       "    </tr>\n",
       "    <tr>\n",
       "      <th>8</th>\n",
       "      <td>433</td>\n",
       "      <td>u1</td>\n",
       "      <td>40</td>\n",
       "      <td>1</td>\n",
       "      <td>23/02/2015</td>\n",
       "      <td>NTCIR-Lifelog_images/u1/2015-02-23/</td>\n",
       "      <td>cooking</td>\n",
       "      <td>u1_2015-02-23_070813_8</td>\n",
       "      <td>/u1/2015-02-23/b00000008_21i6bq_20150223_07081...</td>\n",
       "      <td>Home</td>\n",
       "      <td>...</td>\n",
       "      <td>0.0</td>\n",
       "      <td>0.00</td>\n",
       "      <td>0.0</td>\n",
       "      <td>0.0</td>\n",
       "      <td>0.0</td>\n",
       "      <td>0.0</td>\n",
       "      <td>0.0</td>\n",
       "      <td>0.0</td>\n",
       "      <td>0</td>\n",
       "      <td>Monday</td>\n",
       "    </tr>\n",
       "    <tr>\n",
       "      <th>9</th>\n",
       "      <td>434</td>\n",
       "      <td>u1</td>\n",
       "      <td>40</td>\n",
       "      <td>1</td>\n",
       "      <td>23/02/2015</td>\n",
       "      <td>NTCIR-Lifelog_images/u1/2015-02-23/</td>\n",
       "      <td>cooking</td>\n",
       "      <td>u1_2015-02-23_070814_9</td>\n",
       "      <td>/u1/2015-02-23/b00000009_21i6bq_20150223_07081...</td>\n",
       "      <td>Home</td>\n",
       "      <td>...</td>\n",
       "      <td>0.0</td>\n",
       "      <td>0.36</td>\n",
       "      <td>0.0</td>\n",
       "      <td>0.0</td>\n",
       "      <td>0.0</td>\n",
       "      <td>0.0</td>\n",
       "      <td>0.0</td>\n",
       "      <td>0.0</td>\n",
       "      <td>0</td>\n",
       "      <td>Monday</td>\n",
       "    </tr>\n",
       "    <tr>\n",
       "      <th>10</th>\n",
       "      <td>435</td>\n",
       "      <td>u1</td>\n",
       "      <td>40</td>\n",
       "      <td>1</td>\n",
       "      <td>23/02/2015</td>\n",
       "      <td>NTCIR-Lifelog_images/u1/2015-02-23/</td>\n",
       "      <td>cooking</td>\n",
       "      <td>u1_2015-02-23_070822_10</td>\n",
       "      <td>/u1/2015-02-23/b00000010_21i6bq_20150223_07082...</td>\n",
       "      <td>Home</td>\n",
       "      <td>...</td>\n",
       "      <td>0.0</td>\n",
       "      <td>0.45</td>\n",
       "      <td>0.0</td>\n",
       "      <td>0.0</td>\n",
       "      <td>0.0</td>\n",
       "      <td>0.0</td>\n",
       "      <td>0.0</td>\n",
       "      <td>0.0</td>\n",
       "      <td>0</td>\n",
       "      <td>Monday</td>\n",
       "    </tr>\n",
       "  </tbody>\n",
       "</table>\n",
       "<p>5 rows × 98 columns</p>\n",
       "</div>"
      ],
      "text/plain": [
       "    index user  age  day_id        date                      image_directory  \\\n",
       "6     431   u1   40       1  23/02/2015  NTCIR-Lifelog_images/u1/2015-02-23/   \n",
       "7     432   u1   40       1  23/02/2015  NTCIR-Lifelog_images/u1/2015-02-23/   \n",
       "8     433   u1   40       1  23/02/2015  NTCIR-Lifelog_images/u1/2015-02-23/   \n",
       "9     434   u1   40       1  23/02/2015  NTCIR-Lifelog_images/u1/2015-02-23/   \n",
       "10    435   u1   40       1  23/02/2015  NTCIR-Lifelog_images/u1/2015-02-23/   \n",
       "\n",
       "   activity                 image_id  \\\n",
       "6    mobile   u1_2015-02-23_070812_6   \n",
       "7   cooking   u1_2015-02-23_070813_7   \n",
       "8   cooking   u1_2015-02-23_070813_8   \n",
       "9   cooking   u1_2015-02-23_070814_9   \n",
       "10  cooking  u1_2015-02-23_070822_10   \n",
       "\n",
       "                                           image_path location  \\\n",
       "6   /u1/2015-02-23/b00000006_21i6bq_20150223_07081...     Home   \n",
       "7   /u1/2015-02-23/b00000007_21i6bq_20150223_07081...     Home   \n",
       "8   /u1/2015-02-23/b00000008_21i6bq_20150223_07081...     Home   \n",
       "9   /u1/2015-02-23/b00000009_21i6bq_20150223_07081...     Home   \n",
       "10  /u1/2015-02-23/b00000010_21i6bq_20150223_07082...     Home   \n",
       "\n",
       "          ...        truck  bottle  suitcase cake wine glass baseball bat  \\\n",
       "6         ...          0.0    0.00       0.0  0.0        0.0          0.0   \n",
       "7         ...          0.0    0.17       0.0  0.0        0.0          0.0   \n",
       "8         ...          0.0    0.00       0.0  0.0        0.0          0.0   \n",
       "9         ...          0.0    0.36       0.0  0.0        0.0          0.0   \n",
       "10        ...          0.0    0.45       0.0  0.0        0.0          0.0   \n",
       "\n",
       "    traffic light  baseball glove  day_of_week  day_of_week_name  \n",
       "6             0.0             0.0            0            Monday  \n",
       "7             0.0             0.0            0            Monday  \n",
       "8             0.0             0.0            0            Monday  \n",
       "9             0.0             0.0            0            Monday  \n",
       "10            0.0             0.0            0            Monday  \n",
       "\n",
       "[5 rows x 98 columns]"
      ]
     },
     "execution_count": 126,
     "metadata": {},
     "output_type": "execute_result"
    }
   ],
   "source": [
    "df.head()"
   ]
  },
  {
   "cell_type": "code",
   "execution_count": 128,
   "metadata": {
    "collapsed": true
   },
   "outputs": [],
   "source": [
    "df_new=df.copy()"
   ]
  },
  {
   "cell_type": "markdown",
   "metadata": {},
   "source": [
    "get time and convert date+time into a timestamp index"
   ]
  },
  {
   "cell_type": "code",
   "execution_count": 129,
   "metadata": {},
   "outputs": [],
   "source": [
    "date=(df_new['image_id'].str[3:13])\n",
    "df_new['date_new'] = pd.to_datetime(date)\n",
    "\n",
    "hora= (df_new['image_id'].str[14:16].astype(int))*3600\n",
    "minutes = (df_new['image_id'].str[16:18].astype(int))*60\n",
    "seconds = (df_new['image_id'].str[18:20].astype(int))*1\n",
    "total = hora+minutes+seconds\n",
    "\n",
    "df_new['horario'] = pd.to_timedelta((total).astype('int'), unit='s') #convert seconds to HH:MM:SS and add to new column"
   ]
  },
  {
   "cell_type": "code",
   "execution_count": 130,
   "metadata": {},
   "outputs": [
    {
     "data": {
      "text/html": [
       "<div>\n",
       "<table border=\"1\" class=\"dataframe\">\n",
       "  <thead>\n",
       "    <tr style=\"text-align: right;\">\n",
       "      <th></th>\n",
       "      <th>index</th>\n",
       "      <th>user</th>\n",
       "      <th>age</th>\n",
       "      <th>day_id</th>\n",
       "      <th>date</th>\n",
       "      <th>image_directory</th>\n",
       "      <th>activity</th>\n",
       "      <th>image_id</th>\n",
       "      <th>image_path</th>\n",
       "      <th>location</th>\n",
       "      <th>...</th>\n",
       "      <th>suitcase</th>\n",
       "      <th>cake</th>\n",
       "      <th>wine glass</th>\n",
       "      <th>baseball bat</th>\n",
       "      <th>traffic light</th>\n",
       "      <th>baseball glove</th>\n",
       "      <th>day_of_week</th>\n",
       "      <th>day_of_week_name</th>\n",
       "      <th>date_new</th>\n",
       "      <th>horario</th>\n",
       "    </tr>\n",
       "  </thead>\n",
       "  <tbody>\n",
       "    <tr>\n",
       "      <th>6</th>\n",
       "      <td>431</td>\n",
       "      <td>u1</td>\n",
       "      <td>40</td>\n",
       "      <td>1</td>\n",
       "      <td>23/02/2015</td>\n",
       "      <td>NTCIR-Lifelog_images/u1/2015-02-23/</td>\n",
       "      <td>mobile</td>\n",
       "      <td>u1_2015-02-23_070812_6</td>\n",
       "      <td>/u1/2015-02-23/b00000006_21i6bq_20150223_07081...</td>\n",
       "      <td>Home</td>\n",
       "      <td>...</td>\n",
       "      <td>0.0</td>\n",
       "      <td>0.0</td>\n",
       "      <td>0.0</td>\n",
       "      <td>0.0</td>\n",
       "      <td>0.0</td>\n",
       "      <td>0.0</td>\n",
       "      <td>0</td>\n",
       "      <td>Monday</td>\n",
       "      <td>2015-02-23</td>\n",
       "      <td>07:08:12</td>\n",
       "    </tr>\n",
       "    <tr>\n",
       "      <th>7</th>\n",
       "      <td>432</td>\n",
       "      <td>u1</td>\n",
       "      <td>40</td>\n",
       "      <td>1</td>\n",
       "      <td>23/02/2015</td>\n",
       "      <td>NTCIR-Lifelog_images/u1/2015-02-23/</td>\n",
       "      <td>cooking</td>\n",
       "      <td>u1_2015-02-23_070813_7</td>\n",
       "      <td>/u1/2015-02-23/b00000007_21i6bq_20150223_07081...</td>\n",
       "      <td>Home</td>\n",
       "      <td>...</td>\n",
       "      <td>0.0</td>\n",
       "      <td>0.0</td>\n",
       "      <td>0.0</td>\n",
       "      <td>0.0</td>\n",
       "      <td>0.0</td>\n",
       "      <td>0.0</td>\n",
       "      <td>0</td>\n",
       "      <td>Monday</td>\n",
       "      <td>2015-02-23</td>\n",
       "      <td>07:08:13</td>\n",
       "    </tr>\n",
       "    <tr>\n",
       "      <th>8</th>\n",
       "      <td>433</td>\n",
       "      <td>u1</td>\n",
       "      <td>40</td>\n",
       "      <td>1</td>\n",
       "      <td>23/02/2015</td>\n",
       "      <td>NTCIR-Lifelog_images/u1/2015-02-23/</td>\n",
       "      <td>cooking</td>\n",
       "      <td>u1_2015-02-23_070813_8</td>\n",
       "      <td>/u1/2015-02-23/b00000008_21i6bq_20150223_07081...</td>\n",
       "      <td>Home</td>\n",
       "      <td>...</td>\n",
       "      <td>0.0</td>\n",
       "      <td>0.0</td>\n",
       "      <td>0.0</td>\n",
       "      <td>0.0</td>\n",
       "      <td>0.0</td>\n",
       "      <td>0.0</td>\n",
       "      <td>0</td>\n",
       "      <td>Monday</td>\n",
       "      <td>2015-02-23</td>\n",
       "      <td>07:08:13</td>\n",
       "    </tr>\n",
       "    <tr>\n",
       "      <th>9</th>\n",
       "      <td>434</td>\n",
       "      <td>u1</td>\n",
       "      <td>40</td>\n",
       "      <td>1</td>\n",
       "      <td>23/02/2015</td>\n",
       "      <td>NTCIR-Lifelog_images/u1/2015-02-23/</td>\n",
       "      <td>cooking</td>\n",
       "      <td>u1_2015-02-23_070814_9</td>\n",
       "      <td>/u1/2015-02-23/b00000009_21i6bq_20150223_07081...</td>\n",
       "      <td>Home</td>\n",
       "      <td>...</td>\n",
       "      <td>0.0</td>\n",
       "      <td>0.0</td>\n",
       "      <td>0.0</td>\n",
       "      <td>0.0</td>\n",
       "      <td>0.0</td>\n",
       "      <td>0.0</td>\n",
       "      <td>0</td>\n",
       "      <td>Monday</td>\n",
       "      <td>2015-02-23</td>\n",
       "      <td>07:08:14</td>\n",
       "    </tr>\n",
       "    <tr>\n",
       "      <th>10</th>\n",
       "      <td>435</td>\n",
       "      <td>u1</td>\n",
       "      <td>40</td>\n",
       "      <td>1</td>\n",
       "      <td>23/02/2015</td>\n",
       "      <td>NTCIR-Lifelog_images/u1/2015-02-23/</td>\n",
       "      <td>cooking</td>\n",
       "      <td>u1_2015-02-23_070822_10</td>\n",
       "      <td>/u1/2015-02-23/b00000010_21i6bq_20150223_07082...</td>\n",
       "      <td>Home</td>\n",
       "      <td>...</td>\n",
       "      <td>0.0</td>\n",
       "      <td>0.0</td>\n",
       "      <td>0.0</td>\n",
       "      <td>0.0</td>\n",
       "      <td>0.0</td>\n",
       "      <td>0.0</td>\n",
       "      <td>0</td>\n",
       "      <td>Monday</td>\n",
       "      <td>2015-02-23</td>\n",
       "      <td>07:08:22</td>\n",
       "    </tr>\n",
       "  </tbody>\n",
       "</table>\n",
       "<p>5 rows × 100 columns</p>\n",
       "</div>"
      ],
      "text/plain": [
       "    index user  age  day_id        date                      image_directory  \\\n",
       "6     431   u1   40       1  23/02/2015  NTCIR-Lifelog_images/u1/2015-02-23/   \n",
       "7     432   u1   40       1  23/02/2015  NTCIR-Lifelog_images/u1/2015-02-23/   \n",
       "8     433   u1   40       1  23/02/2015  NTCIR-Lifelog_images/u1/2015-02-23/   \n",
       "9     434   u1   40       1  23/02/2015  NTCIR-Lifelog_images/u1/2015-02-23/   \n",
       "10    435   u1   40       1  23/02/2015  NTCIR-Lifelog_images/u1/2015-02-23/   \n",
       "\n",
       "   activity                 image_id  \\\n",
       "6    mobile   u1_2015-02-23_070812_6   \n",
       "7   cooking   u1_2015-02-23_070813_7   \n",
       "8   cooking   u1_2015-02-23_070813_8   \n",
       "9   cooking   u1_2015-02-23_070814_9   \n",
       "10  cooking  u1_2015-02-23_070822_10   \n",
       "\n",
       "                                           image_path location   ...     \\\n",
       "6   /u1/2015-02-23/b00000006_21i6bq_20150223_07081...     Home   ...      \n",
       "7   /u1/2015-02-23/b00000007_21i6bq_20150223_07081...     Home   ...      \n",
       "8   /u1/2015-02-23/b00000008_21i6bq_20150223_07081...     Home   ...      \n",
       "9   /u1/2015-02-23/b00000009_21i6bq_20150223_07081...     Home   ...      \n",
       "10  /u1/2015-02-23/b00000010_21i6bq_20150223_07082...     Home   ...      \n",
       "\n",
       "   suitcase  cake  wine glass baseball bat traffic light baseball glove  \\\n",
       "6       0.0   0.0         0.0          0.0           0.0            0.0   \n",
       "7       0.0   0.0         0.0          0.0           0.0            0.0   \n",
       "8       0.0   0.0         0.0          0.0           0.0            0.0   \n",
       "9       0.0   0.0         0.0          0.0           0.0            0.0   \n",
       "10      0.0   0.0         0.0          0.0           0.0            0.0   \n",
       "\n",
       "    day_of_week  day_of_week_name   date_new  horario  \n",
       "6             0            Monday 2015-02-23 07:08:12  \n",
       "7             0            Monday 2015-02-23 07:08:13  \n",
       "8             0            Monday 2015-02-23 07:08:13  \n",
       "9             0            Monday 2015-02-23 07:08:14  \n",
       "10            0            Monday 2015-02-23 07:08:22  \n",
       "\n",
       "[5 rows x 100 columns]"
      ]
     },
     "execution_count": 130,
     "metadata": {},
     "output_type": "execute_result"
    }
   ],
   "source": [
    "df_new.head()"
   ]
  },
  {
   "cell_type": "code",
   "execution_count": 136,
   "metadata": {},
   "outputs": [
    {
     "name": "stdout",
     "output_type": "stream",
     "text": [
      "<class 'pandas.core.series.Series'>\n",
      "<class 'pandas.core.series.Series'>\n",
      "<class 'pandas.core.series.Series'>\n"
     ]
    }
   ],
   "source": [
    "print type(df_new['date_new'])\n",
    "print type(df_new['horario'])"
   ]
  },
  {
   "cell_type": "code",
   "execution_count": 139,
   "metadata": {},
   "outputs": [],
   "source": [
    "df_new.index = df_new.date_new.values + df_new.horario.values\n",
    "# we assign the date and time as the index series"
   ]
  },
  {
   "cell_type": "code",
   "execution_count": 140,
   "metadata": {
    "collapsed": true
   },
   "outputs": [],
   "source": [
    "# remove unwanted columns\n",
    "df_new=df_new.drop(\"index\",axis = 1)"
   ]
  },
  {
   "cell_type": "code",
   "execution_count": 141,
   "metadata": {},
   "outputs": [
    {
     "data": {
      "text/html": [
       "<div>\n",
       "<table border=\"1\" class=\"dataframe\">\n",
       "  <thead>\n",
       "    <tr style=\"text-align: right;\">\n",
       "      <th></th>\n",
       "      <th>user</th>\n",
       "      <th>age</th>\n",
       "      <th>day_id</th>\n",
       "      <th>date</th>\n",
       "      <th>image_directory</th>\n",
       "      <th>activity</th>\n",
       "      <th>image_id</th>\n",
       "      <th>image_path</th>\n",
       "      <th>location</th>\n",
       "      <th>gender</th>\n",
       "      <th>...</th>\n",
       "      <th>bottle</th>\n",
       "      <th>suitcase</th>\n",
       "      <th>cake</th>\n",
       "      <th>wine glass</th>\n",
       "      <th>baseball bat</th>\n",
       "      <th>traffic light</th>\n",
       "      <th>baseball glove</th>\n",
       "      <th>day_of_week</th>\n",
       "      <th>day_of_week_name</th>\n",
       "      <th>date_new</th>\n",
       "    </tr>\n",
       "  </thead>\n",
       "  <tbody>\n",
       "    <tr>\n",
       "      <th>2015-02-23 07:08:12</th>\n",
       "      <td>u1</td>\n",
       "      <td>40</td>\n",
       "      <td>1</td>\n",
       "      <td>23/02/2015</td>\n",
       "      <td>NTCIR-Lifelog_images/u1/2015-02-23/</td>\n",
       "      <td>mobile</td>\n",
       "      <td>u1_2015-02-23_070812_6</td>\n",
       "      <td>/u1/2015-02-23/b00000006_21i6bq_20150223_07081...</td>\n",
       "      <td>Home</td>\n",
       "      <td>male</td>\n",
       "      <td>...</td>\n",
       "      <td>0.00</td>\n",
       "      <td>0.0</td>\n",
       "      <td>0.0</td>\n",
       "      <td>0.0</td>\n",
       "      <td>0.0</td>\n",
       "      <td>0.0</td>\n",
       "      <td>0.0</td>\n",
       "      <td>0</td>\n",
       "      <td>Monday</td>\n",
       "      <td>2015-02-23</td>\n",
       "    </tr>\n",
       "    <tr>\n",
       "      <th>2015-02-23 07:08:13</th>\n",
       "      <td>u1</td>\n",
       "      <td>40</td>\n",
       "      <td>1</td>\n",
       "      <td>23/02/2015</td>\n",
       "      <td>NTCIR-Lifelog_images/u1/2015-02-23/</td>\n",
       "      <td>cooking</td>\n",
       "      <td>u1_2015-02-23_070813_7</td>\n",
       "      <td>/u1/2015-02-23/b00000007_21i6bq_20150223_07081...</td>\n",
       "      <td>Home</td>\n",
       "      <td>male</td>\n",
       "      <td>...</td>\n",
       "      <td>0.17</td>\n",
       "      <td>0.0</td>\n",
       "      <td>0.0</td>\n",
       "      <td>0.0</td>\n",
       "      <td>0.0</td>\n",
       "      <td>0.0</td>\n",
       "      <td>0.0</td>\n",
       "      <td>0</td>\n",
       "      <td>Monday</td>\n",
       "      <td>2015-02-23</td>\n",
       "    </tr>\n",
       "    <tr>\n",
       "      <th>2015-02-23 07:08:13</th>\n",
       "      <td>u1</td>\n",
       "      <td>40</td>\n",
       "      <td>1</td>\n",
       "      <td>23/02/2015</td>\n",
       "      <td>NTCIR-Lifelog_images/u1/2015-02-23/</td>\n",
       "      <td>cooking</td>\n",
       "      <td>u1_2015-02-23_070813_8</td>\n",
       "      <td>/u1/2015-02-23/b00000008_21i6bq_20150223_07081...</td>\n",
       "      <td>Home</td>\n",
       "      <td>male</td>\n",
       "      <td>...</td>\n",
       "      <td>0.00</td>\n",
       "      <td>0.0</td>\n",
       "      <td>0.0</td>\n",
       "      <td>0.0</td>\n",
       "      <td>0.0</td>\n",
       "      <td>0.0</td>\n",
       "      <td>0.0</td>\n",
       "      <td>0</td>\n",
       "      <td>Monday</td>\n",
       "      <td>2015-02-23</td>\n",
       "    </tr>\n",
       "    <tr>\n",
       "      <th>2015-02-23 07:08:14</th>\n",
       "      <td>u1</td>\n",
       "      <td>40</td>\n",
       "      <td>1</td>\n",
       "      <td>23/02/2015</td>\n",
       "      <td>NTCIR-Lifelog_images/u1/2015-02-23/</td>\n",
       "      <td>cooking</td>\n",
       "      <td>u1_2015-02-23_070814_9</td>\n",
       "      <td>/u1/2015-02-23/b00000009_21i6bq_20150223_07081...</td>\n",
       "      <td>Home</td>\n",
       "      <td>male</td>\n",
       "      <td>...</td>\n",
       "      <td>0.36</td>\n",
       "      <td>0.0</td>\n",
       "      <td>0.0</td>\n",
       "      <td>0.0</td>\n",
       "      <td>0.0</td>\n",
       "      <td>0.0</td>\n",
       "      <td>0.0</td>\n",
       "      <td>0</td>\n",
       "      <td>Monday</td>\n",
       "      <td>2015-02-23</td>\n",
       "    </tr>\n",
       "    <tr>\n",
       "      <th>2015-02-23 07:08:22</th>\n",
       "      <td>u1</td>\n",
       "      <td>40</td>\n",
       "      <td>1</td>\n",
       "      <td>23/02/2015</td>\n",
       "      <td>NTCIR-Lifelog_images/u1/2015-02-23/</td>\n",
       "      <td>cooking</td>\n",
       "      <td>u1_2015-02-23_070822_10</td>\n",
       "      <td>/u1/2015-02-23/b00000010_21i6bq_20150223_07082...</td>\n",
       "      <td>Home</td>\n",
       "      <td>male</td>\n",
       "      <td>...</td>\n",
       "      <td>0.45</td>\n",
       "      <td>0.0</td>\n",
       "      <td>0.0</td>\n",
       "      <td>0.0</td>\n",
       "      <td>0.0</td>\n",
       "      <td>0.0</td>\n",
       "      <td>0.0</td>\n",
       "      <td>0</td>\n",
       "      <td>Monday</td>\n",
       "      <td>2015-02-23</td>\n",
       "    </tr>\n",
       "  </tbody>\n",
       "</table>\n",
       "<p>5 rows × 98 columns</p>\n",
       "</div>"
      ],
      "text/plain": [
       "                    user  age  day_id        date  \\\n",
       "2015-02-23 07:08:12   u1   40       1  23/02/2015   \n",
       "2015-02-23 07:08:13   u1   40       1  23/02/2015   \n",
       "2015-02-23 07:08:13   u1   40       1  23/02/2015   \n",
       "2015-02-23 07:08:14   u1   40       1  23/02/2015   \n",
       "2015-02-23 07:08:22   u1   40       1  23/02/2015   \n",
       "\n",
       "                                         image_directory activity  \\\n",
       "2015-02-23 07:08:12  NTCIR-Lifelog_images/u1/2015-02-23/   mobile   \n",
       "2015-02-23 07:08:13  NTCIR-Lifelog_images/u1/2015-02-23/  cooking   \n",
       "2015-02-23 07:08:13  NTCIR-Lifelog_images/u1/2015-02-23/  cooking   \n",
       "2015-02-23 07:08:14  NTCIR-Lifelog_images/u1/2015-02-23/  cooking   \n",
       "2015-02-23 07:08:22  NTCIR-Lifelog_images/u1/2015-02-23/  cooking   \n",
       "\n",
       "                                    image_id  \\\n",
       "2015-02-23 07:08:12   u1_2015-02-23_070812_6   \n",
       "2015-02-23 07:08:13   u1_2015-02-23_070813_7   \n",
       "2015-02-23 07:08:13   u1_2015-02-23_070813_8   \n",
       "2015-02-23 07:08:14   u1_2015-02-23_070814_9   \n",
       "2015-02-23 07:08:22  u1_2015-02-23_070822_10   \n",
       "\n",
       "                                                            image_path  \\\n",
       "2015-02-23 07:08:12  /u1/2015-02-23/b00000006_21i6bq_20150223_07081...   \n",
       "2015-02-23 07:08:13  /u1/2015-02-23/b00000007_21i6bq_20150223_07081...   \n",
       "2015-02-23 07:08:13  /u1/2015-02-23/b00000008_21i6bq_20150223_07081...   \n",
       "2015-02-23 07:08:14  /u1/2015-02-23/b00000009_21i6bq_20150223_07081...   \n",
       "2015-02-23 07:08:22  /u1/2015-02-23/b00000010_21i6bq_20150223_07082...   \n",
       "\n",
       "                    location gender    ...      bottle  suitcase cake  \\\n",
       "2015-02-23 07:08:12     Home   male    ...        0.00       0.0  0.0   \n",
       "2015-02-23 07:08:13     Home   male    ...        0.17       0.0  0.0   \n",
       "2015-02-23 07:08:13     Home   male    ...        0.00       0.0  0.0   \n",
       "2015-02-23 07:08:14     Home   male    ...        0.36       0.0  0.0   \n",
       "2015-02-23 07:08:22     Home   male    ...        0.45       0.0  0.0   \n",
       "\n",
       "                    wine glass baseball bat  traffic light  baseball glove  \\\n",
       "2015-02-23 07:08:12        0.0          0.0            0.0             0.0   \n",
       "2015-02-23 07:08:13        0.0          0.0            0.0             0.0   \n",
       "2015-02-23 07:08:13        0.0          0.0            0.0             0.0   \n",
       "2015-02-23 07:08:14        0.0          0.0            0.0             0.0   \n",
       "2015-02-23 07:08:22        0.0          0.0            0.0             0.0   \n",
       "\n",
       "                     day_of_week  day_of_week_name   date_new  \n",
       "2015-02-23 07:08:12            0            Monday 2015-02-23  \n",
       "2015-02-23 07:08:13            0            Monday 2015-02-23  \n",
       "2015-02-23 07:08:13            0            Monday 2015-02-23  \n",
       "2015-02-23 07:08:14            0            Monday 2015-02-23  \n",
       "2015-02-23 07:08:22            0            Monday 2015-02-23  \n",
       "\n",
       "[5 rows x 98 columns]"
      ]
     },
     "execution_count": 141,
     "metadata": {},
     "output_type": "execute_result"
    }
   ],
   "source": [
    "df_new=df_new.drop('horario',axis =1)\n",
    "df_new.head()"
   ]
  },
  {
   "cell_type": "code",
   "execution_count": 142,
   "metadata": {},
   "outputs": [
    {
     "data": {
      "text/plain": [
       "Index([u'user', u'age', u'day_id', u'date', u'image_directory', u'activity',\n",
       "       u'image_id', u'image_path', u'location', u'gender', u'height',\n",
       "       u'weight', u'filename', u'toilet', u'teddy bear', u'sports ball',\n",
       "       u'bicycle', u'apple', u'laptop', u'scissors', u'donut', u'snowboard',\n",
       "       u'carrot', u'zebra', u'oven', u'keyboard', u'pottedplant', u'tvmonitor',\n",
       "       u'chair', u'parking meter', u'mouse', u'frisbee', u'boat', u'kite',\n",
       "       u'hair drier', u'horse', u'motorbike', u'banana', u'cup', u'backpack',\n",
       "       u'toaster', u'bowl', u'microwave', u'bench', u'fire hydrant', u'book',\n",
       "       u'diningtable', u'elephant', u'orange', u'tie', u'bird', u'knife',\n",
       "       u'pizza', u'fork', u'sheep', u'sandwich', u'umbrella', u'aeroplane',\n",
       "       u'tennis racket', u'sofa', u'bus', u'bear', u'vase', u'toothbrush',\n",
       "       u'spoon', u'train', u'sink', u'stop sign', u'handbag', u'cell phone',\n",
       "       u'broccoli', u'refrigerator', u'remote', u'surfboard', u'cow',\n",
       "       u'hot dog', u'car', u'clock', u'skateboard', u'dog', u'bed', u'cat',\n",
       "       u'person', u'skis', u'giraffe', u'truck', u'bottle', u'suitcase',\n",
       "       u'cake', u'wine glass', u'baseball bat', u'traffic light',\n",
       "       u'baseball glove', u'day_of_week', u'day_of_week_name', u'date_new'],\n",
       "      dtype='object')"
      ]
     },
     "execution_count": 142,
     "metadata": {},
     "output_type": "execute_result"
    }
   ],
   "source": [
    "# remove other columns like user_y, date_y\n",
    "df_new=df_new.drop(['user_y','date_y'],axis =1)\n",
    "df_new.columns"
   ]
  },
  {
   "cell_type": "code",
   "execution_count": 143,
   "metadata": {
    "collapsed": true
   },
   "outputs": [],
   "source": [
    "df_new.to_csv('./../data/ntcir12.csv')"
   ]
  },
  {
   "cell_type": "markdown",
   "metadata": {},
   "source": [
    "## Opening new .csv file with all information and analize information that contains"
   ]
  },
  {
   "cell_type": "code",
   "execution_count": 145,
   "metadata": {},
   "outputs": [],
   "source": [
    "df=pd.read_csv('./../data/ntcir12.csv',sep=',', index_col='Unnamed: 0')"
   ]
  },
  {
   "cell_type": "code",
   "execution_count": 146,
   "metadata": {},
   "outputs": [
    {
     "data": {
      "text/html": [
       "<div>\n",
       "<table border=\"1\" class=\"dataframe\">\n",
       "  <thead>\n",
       "    <tr style=\"text-align: right;\">\n",
       "      <th></th>\n",
       "      <th>user</th>\n",
       "      <th>age</th>\n",
       "      <th>day_id</th>\n",
       "      <th>date</th>\n",
       "      <th>image_directory</th>\n",
       "      <th>activity</th>\n",
       "      <th>image_id</th>\n",
       "      <th>image_path</th>\n",
       "      <th>location</th>\n",
       "      <th>gender</th>\n",
       "      <th>...</th>\n",
       "      <th>bottle</th>\n",
       "      <th>suitcase</th>\n",
       "      <th>cake</th>\n",
       "      <th>wine glass</th>\n",
       "      <th>baseball bat</th>\n",
       "      <th>traffic light</th>\n",
       "      <th>baseball glove</th>\n",
       "      <th>day_of_week</th>\n",
       "      <th>day_of_week_name</th>\n",
       "      <th>date_new</th>\n",
       "    </tr>\n",
       "  </thead>\n",
       "  <tbody>\n",
       "    <tr>\n",
       "      <th>2015-02-23 07:08:12</th>\n",
       "      <td>u1</td>\n",
       "      <td>40</td>\n",
       "      <td>1</td>\n",
       "      <td>23/02/2015</td>\n",
       "      <td>NTCIR-Lifelog_images/u1/2015-02-23/</td>\n",
       "      <td>mobile</td>\n",
       "      <td>u1_2015-02-23_070812_6</td>\n",
       "      <td>/u1/2015-02-23/b00000006_21i6bq_20150223_07081...</td>\n",
       "      <td>Home</td>\n",
       "      <td>male</td>\n",
       "      <td>...</td>\n",
       "      <td>0.00</td>\n",
       "      <td>0.0</td>\n",
       "      <td>0.0</td>\n",
       "      <td>0.0</td>\n",
       "      <td>0.0</td>\n",
       "      <td>0.0</td>\n",
       "      <td>0.0</td>\n",
       "      <td>0</td>\n",
       "      <td>Monday</td>\n",
       "      <td>2015-02-23</td>\n",
       "    </tr>\n",
       "    <tr>\n",
       "      <th>2015-02-23 07:08:13</th>\n",
       "      <td>u1</td>\n",
       "      <td>40</td>\n",
       "      <td>1</td>\n",
       "      <td>23/02/2015</td>\n",
       "      <td>NTCIR-Lifelog_images/u1/2015-02-23/</td>\n",
       "      <td>cooking</td>\n",
       "      <td>u1_2015-02-23_070813_7</td>\n",
       "      <td>/u1/2015-02-23/b00000007_21i6bq_20150223_07081...</td>\n",
       "      <td>Home</td>\n",
       "      <td>male</td>\n",
       "      <td>...</td>\n",
       "      <td>0.17</td>\n",
       "      <td>0.0</td>\n",
       "      <td>0.0</td>\n",
       "      <td>0.0</td>\n",
       "      <td>0.0</td>\n",
       "      <td>0.0</td>\n",
       "      <td>0.0</td>\n",
       "      <td>0</td>\n",
       "      <td>Monday</td>\n",
       "      <td>2015-02-23</td>\n",
       "    </tr>\n",
       "    <tr>\n",
       "      <th>2015-02-23 07:08:13</th>\n",
       "      <td>u1</td>\n",
       "      <td>40</td>\n",
       "      <td>1</td>\n",
       "      <td>23/02/2015</td>\n",
       "      <td>NTCIR-Lifelog_images/u1/2015-02-23/</td>\n",
       "      <td>cooking</td>\n",
       "      <td>u1_2015-02-23_070813_8</td>\n",
       "      <td>/u1/2015-02-23/b00000008_21i6bq_20150223_07081...</td>\n",
       "      <td>Home</td>\n",
       "      <td>male</td>\n",
       "      <td>...</td>\n",
       "      <td>0.00</td>\n",
       "      <td>0.0</td>\n",
       "      <td>0.0</td>\n",
       "      <td>0.0</td>\n",
       "      <td>0.0</td>\n",
       "      <td>0.0</td>\n",
       "      <td>0.0</td>\n",
       "      <td>0</td>\n",
       "      <td>Monday</td>\n",
       "      <td>2015-02-23</td>\n",
       "    </tr>\n",
       "    <tr>\n",
       "      <th>2015-02-23 07:08:14</th>\n",
       "      <td>u1</td>\n",
       "      <td>40</td>\n",
       "      <td>1</td>\n",
       "      <td>23/02/2015</td>\n",
       "      <td>NTCIR-Lifelog_images/u1/2015-02-23/</td>\n",
       "      <td>cooking</td>\n",
       "      <td>u1_2015-02-23_070814_9</td>\n",
       "      <td>/u1/2015-02-23/b00000009_21i6bq_20150223_07081...</td>\n",
       "      <td>Home</td>\n",
       "      <td>male</td>\n",
       "      <td>...</td>\n",
       "      <td>0.36</td>\n",
       "      <td>0.0</td>\n",
       "      <td>0.0</td>\n",
       "      <td>0.0</td>\n",
       "      <td>0.0</td>\n",
       "      <td>0.0</td>\n",
       "      <td>0.0</td>\n",
       "      <td>0</td>\n",
       "      <td>Monday</td>\n",
       "      <td>2015-02-23</td>\n",
       "    </tr>\n",
       "    <tr>\n",
       "      <th>2015-02-23 07:08:22</th>\n",
       "      <td>u1</td>\n",
       "      <td>40</td>\n",
       "      <td>1</td>\n",
       "      <td>23/02/2015</td>\n",
       "      <td>NTCIR-Lifelog_images/u1/2015-02-23/</td>\n",
       "      <td>cooking</td>\n",
       "      <td>u1_2015-02-23_070822_10</td>\n",
       "      <td>/u1/2015-02-23/b00000010_21i6bq_20150223_07082...</td>\n",
       "      <td>Home</td>\n",
       "      <td>male</td>\n",
       "      <td>...</td>\n",
       "      <td>0.45</td>\n",
       "      <td>0.0</td>\n",
       "      <td>0.0</td>\n",
       "      <td>0.0</td>\n",
       "      <td>0.0</td>\n",
       "      <td>0.0</td>\n",
       "      <td>0.0</td>\n",
       "      <td>0</td>\n",
       "      <td>Monday</td>\n",
       "      <td>2015-02-23</td>\n",
       "    </tr>\n",
       "  </tbody>\n",
       "</table>\n",
       "<p>5 rows × 96 columns</p>\n",
       "</div>"
      ],
      "text/plain": [
       "                    user  age  day_id        date  \\\n",
       "2015-02-23 07:08:12   u1   40       1  23/02/2015   \n",
       "2015-02-23 07:08:13   u1   40       1  23/02/2015   \n",
       "2015-02-23 07:08:13   u1   40       1  23/02/2015   \n",
       "2015-02-23 07:08:14   u1   40       1  23/02/2015   \n",
       "2015-02-23 07:08:22   u1   40       1  23/02/2015   \n",
       "\n",
       "                                         image_directory activity  \\\n",
       "2015-02-23 07:08:12  NTCIR-Lifelog_images/u1/2015-02-23/   mobile   \n",
       "2015-02-23 07:08:13  NTCIR-Lifelog_images/u1/2015-02-23/  cooking   \n",
       "2015-02-23 07:08:13  NTCIR-Lifelog_images/u1/2015-02-23/  cooking   \n",
       "2015-02-23 07:08:14  NTCIR-Lifelog_images/u1/2015-02-23/  cooking   \n",
       "2015-02-23 07:08:22  NTCIR-Lifelog_images/u1/2015-02-23/  cooking   \n",
       "\n",
       "                                    image_id  \\\n",
       "2015-02-23 07:08:12   u1_2015-02-23_070812_6   \n",
       "2015-02-23 07:08:13   u1_2015-02-23_070813_7   \n",
       "2015-02-23 07:08:13   u1_2015-02-23_070813_8   \n",
       "2015-02-23 07:08:14   u1_2015-02-23_070814_9   \n",
       "2015-02-23 07:08:22  u1_2015-02-23_070822_10   \n",
       "\n",
       "                                                            image_path  \\\n",
       "2015-02-23 07:08:12  /u1/2015-02-23/b00000006_21i6bq_20150223_07081...   \n",
       "2015-02-23 07:08:13  /u1/2015-02-23/b00000007_21i6bq_20150223_07081...   \n",
       "2015-02-23 07:08:13  /u1/2015-02-23/b00000008_21i6bq_20150223_07081...   \n",
       "2015-02-23 07:08:14  /u1/2015-02-23/b00000009_21i6bq_20150223_07081...   \n",
       "2015-02-23 07:08:22  /u1/2015-02-23/b00000010_21i6bq_20150223_07082...   \n",
       "\n",
       "                    location gender     ...      bottle  suitcase cake  \\\n",
       "2015-02-23 07:08:12     Home   male     ...        0.00       0.0  0.0   \n",
       "2015-02-23 07:08:13     Home   male     ...        0.17       0.0  0.0   \n",
       "2015-02-23 07:08:13     Home   male     ...        0.00       0.0  0.0   \n",
       "2015-02-23 07:08:14     Home   male     ...        0.36       0.0  0.0   \n",
       "2015-02-23 07:08:22     Home   male     ...        0.45       0.0  0.0   \n",
       "\n",
       "                     wine glass  baseball bat  traffic light  baseball glove  \\\n",
       "2015-02-23 07:08:12         0.0           0.0            0.0             0.0   \n",
       "2015-02-23 07:08:13         0.0           0.0            0.0             0.0   \n",
       "2015-02-23 07:08:13         0.0           0.0            0.0             0.0   \n",
       "2015-02-23 07:08:14         0.0           0.0            0.0             0.0   \n",
       "2015-02-23 07:08:22         0.0           0.0            0.0             0.0   \n",
       "\n",
       "                     day_of_week  day_of_week_name    date_new  \n",
       "2015-02-23 07:08:12            0            Monday  2015-02-23  \n",
       "2015-02-23 07:08:13            0            Monday  2015-02-23  \n",
       "2015-02-23 07:08:13            0            Monday  2015-02-23  \n",
       "2015-02-23 07:08:14            0            Monday  2015-02-23  \n",
       "2015-02-23 07:08:22            0            Monday  2015-02-23  \n",
       "\n",
       "[5 rows x 96 columns]"
      ]
     },
     "execution_count": 146,
     "metadata": {},
     "output_type": "execute_result"
    }
   ],
   "source": [
    "df.head()"
   ]
  },
  {
   "cell_type": "code",
   "execution_count": 147,
   "metadata": {},
   "outputs": [
    {
     "data": {
      "text/plain": [
       "Index([u'2015-02-23 07:08:12', u'2015-02-23 07:08:13', u'2015-02-23 07:08:13',\n",
       "       u'2015-02-23 07:08:14', u'2015-02-23 07:08:22', u'2015-02-23 07:08:59',\n",
       "       u'2015-02-23 07:09:31', u'2015-02-23 07:10:08', u'2015-02-23 07:10:46',\n",
       "       u'2015-02-23 07:11:19',\n",
       "       ...\n",
       "       u'2015-08-03 18:10:17', u'2015-08-03 18:10:47', u'2015-08-03 18:11:17',\n",
       "       u'2015-08-03 18:11:47', u'2015-08-03 18:12:17', u'2015-08-03 18:12:47',\n",
       "       u'2015-08-03 18:13:17', u'2015-08-03 18:13:53', u'2015-08-03 20:24:11',\n",
       "       u'2015-08-03 20:24:41'],\n",
       "      dtype='object', length=49896)"
      ]
     },
     "execution_count": 147,
     "metadata": {},
     "output_type": "execute_result"
    }
   ],
   "source": [
    "df.index"
   ]
  },
  {
   "cell_type": "code",
   "execution_count": 148,
   "metadata": {
    "collapsed": true
   },
   "outputs": [],
   "source": [
    "df.index = pd.to_datetime(df.index)"
   ]
  },
  {
   "cell_type": "code",
   "execution_count": 149,
   "metadata": {},
   "outputs": [
    {
     "data": {
      "image/png": "[encoded data removed]",
      "text/plain": [
       "<matplotlib.figure.Figure at 0x7fe7d6833bd0>"
      ]
     },
     "metadata": {},
     "output_type": "display_data"
    }
   ],
   "source": [
    "df1=df[df['user']=='u1']\n",
    "df1.plot(df1.index,'day_id')\n",
    "plt.show()"
   ]
  },
  {
   "cell_type": "markdown",
   "metadata": {
    "collapsed": true
   },
   "source": [
    "With data and our as an index we can plot graphics using this time reference for each sample."
   ]
  }
 ],
 "metadata": {
  "kernelspec": {
   "display_name": "Python 2",
   "language": "python",
   "name": "python2"
  },
  "language_info": {
   "codemirror_mode": {
    "name": "ipython",
    "version": 2
   },
   "file_extension": ".py",
   "mimetype": "text/x-python",
   "name": "python",
   "nbconvert_exporter": "python",
   "pygments_lexer": "ipython2",
   "version": "2.7.12"
  }
 },
 "nbformat": 4,
 "nbformat_minor": 1
}
